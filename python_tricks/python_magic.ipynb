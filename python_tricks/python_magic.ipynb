{
 "cells": [
  {
   "cell_type": "markdown",
   "id": "680089b8-307c-402b-a616-99fce53c7482",
   "metadata": {},
   "source": [
    "1. \\__init__"
   ]
  },
  {
   "cell_type": "code",
   "execution_count": 1,
   "id": "5cf4f9c9-c3c2-4677-a95f-12949ca6c829",
   "metadata": {
    "tags": []
   },
   "outputs": [],
   "source": [
    "class Vector2D:\n",
    "    def __init__(self, x, y):\n",
    "        self.x = x \n",
    "        self.y = y\n",
    "        \n",
    "v = Vector2D(3, 5)"
   ]
  },
  {
   "cell_type": "markdown",
   "id": "89e6affd-2b1f-427a-88a4-3387dc62f7f1",
   "metadata": {},
   "source": [
    "2. \\__repr__\n",
    "\n",
    "Add a representation string of an object, so it prints useful output.\n",
    "Commonly used for debugging."
   ]
  },
  {
   "cell_type": "code",
   "execution_count": 2,
   "id": "86a60e2f-6223-4ea1-bb83-beb01ce6e18d",
   "metadata": {
    "tags": []
   },
   "outputs": [
    {
     "name": "stdout",
     "output_type": "stream",
     "text": [
      "Vector2D(x=3, y=5)\n"
     ]
    }
   ],
   "source": [
    "class Vector2D:\n",
    "    def __init__(self, x, y):\n",
    "        self.x = x\n",
    "        self.y = y\n",
    "\n",
    "    def __repr__(self):\n",
    "        return f\"Vector2D(x={self.x}, y={self.y})\"\n",
    "\n",
    "v = Vector2D(3, 5)\n",
    "print(v)"
   ]
  },
  {
   "cell_type": "markdown",
   "id": "bf5fa248-1707-4119-9721-b9b7f2b6b1a2",
   "metadata": {},
   "source": [
    "3. \\__str__\n",
    "\n",
    "Also creates a string representation of the object. Often used to provide info to end users."
   ]
  },
  {
   "cell_type": "code",
   "execution_count": 3,
   "id": "f7d6da32-cac9-4c16-b7b0-f483e1f0886a",
   "metadata": {
    "tags": []
   },
   "outputs": [
    {
     "name": "stdout",
     "output_type": "stream",
     "text": [
      "Vector2D(x=3, y=5)\n"
     ]
    }
   ],
   "source": [
    "class Vector2D:\n",
    "    def __init__(self, x, y):\n",
    "        self.x = x\n",
    "        self.y = y\n",
    "\n",
    "    def __str__(self):\n",
    "        return f\"Vector2D(x={self.x}, y={self.y})\"\n",
    "\n",
    "v = Vector2D(3, 5)\n",
    "print(v)"
   ]
  },
  {
   "cell_type": "markdown",
   "id": "d723abd8-40e2-4d57-8724-05f289513d2b",
   "metadata": {},
   "source": [
    "4. \\__eq__\n",
    "\n",
    "Checks for equality across two vector objects."
   ]
  },
  {
   "cell_type": "code",
   "execution_count": 4,
   "id": "e0246e6e-1431-4893-90e4-d4540c5312bc",
   "metadata": {
    "tags": []
   },
   "outputs": [],
   "source": [
    "class Vector2D:\n",
    "    def __init__(self, x, y):\n",
    "        self.x = x\n",
    "        self.y = y\n",
    "\n",
    "    def __repr__(self):\n",
    "        return f\"Vector2D(x={self.x}, y={self.y})\"\n",
    "\n",
    "    def __eq__(self, other):\n",
    "        return self.x == other.x and self.y == other.y"
   ]
  },
  {
   "cell_type": "code",
   "execution_count": 5,
   "id": "e1e269c2-49ef-4e59-844a-d2aae6073efe",
   "metadata": {
    "tags": []
   },
   "outputs": [
    {
     "name": "stdout",
     "output_type": "stream",
     "text": [
      "True\n"
     ]
    }
   ],
   "source": [
    "v1 = Vector2D(3, 5)\n",
    "v2 = Vector2D(3, 5)\n",
    "print(v1 == v2)"
   ]
  },
  {
   "cell_type": "markdown",
   "id": "77c33e2e-7798-4648-8da3-e2b8936bf397",
   "metadata": {},
   "source": [
    "5. \\__len__\n",
    "\n",
    "For a vector, return the number of elements the vector contains."
   ]
  },
  {
   "cell_type": "code",
   "execution_count": 6,
   "id": "2008777c-682f-4861-8d16-215de5d058ba",
   "metadata": {
    "tags": []
   },
   "outputs": [
    {
     "name": "stdout",
     "output_type": "stream",
     "text": [
      "2\n"
     ]
    }
   ],
   "source": [
    "class Vector2D:\n",
    "    def __init__(self, x, y):\n",
    "        self.x = x\n",
    "        self.y = y\n",
    "\n",
    "    def __repr__(self):\n",
    "        return f\"Vector2D(x={self.x}, y={self.y})\"\n",
    "\n",
    "    def __len__(self):\n",
    "        return 2\n",
    "\n",
    "v = Vector2D(3, 5)\n",
    "print(len(v))"
   ]
  },
  {
   "cell_type": "markdown",
   "id": "e9dc6aa4-5ceb-45c8-93c1-56ac6ebe4102",
   "metadata": {},
   "source": [
    "6. \\__add__\n",
    "\n",
    "Adds two vectors."
   ]
  },
  {
   "cell_type": "code",
   "execution_count": 8,
   "id": "071d2ab0-a015-468f-8488-b055571d7570",
   "metadata": {
    "tags": []
   },
   "outputs": [],
   "source": [
    "class Vector2D:\n",
    "    def __init__(self, x, y):\n",
    "        self.x = x\n",
    "        self.y = y\n",
    "\n",
    "    def __repr__(self):\n",
    "        return f\"Vector2D(x={self.x}, y={self.y})\"\n",
    "\n",
    "    def __add__(self, other):\n",
    "        return Vector2D(self.x + other.x, self.y + other.y)"
   ]
  },
  {
   "cell_type": "code",
   "execution_count": 9,
   "id": "439caa69-398d-4d91-8e41-13274af2dbc3",
   "metadata": {
    "tags": []
   },
   "outputs": [
    {
     "name": "stdout",
     "output_type": "stream",
     "text": [
      "Vector2D(x=4, y=7)\n"
     ]
    }
   ],
   "source": [
    "v1 = Vector2D(3, 5)\n",
    "v2 = Vector2D(1, 2)\n",
    "result = v1 + v2\n",
    "print(result)"
   ]
  },
  {
   "cell_type": "markdown",
   "id": "e9c76ddb-84d1-4186-bfaa-4fda610015f6",
   "metadata": {},
   "source": [
    "7. \\__sub__\n",
    "\n",
    "Subtract two vectors."
   ]
  },
  {
   "cell_type": "code",
   "execution_count": 10,
   "id": "70f63dcb-e56c-4446-8c72-c0102e02e3d4",
   "metadata": {
    "tags": []
   },
   "outputs": [],
   "source": [
    "class Vector2D:\n",
    "    def __init__(self, x, y):\n",
    "        self.x = x\n",
    "        self.y = y\n",
    "\n",
    "    def __repr__(self):\n",
    "        return f\"Vector2D(x={self.x}, y={self.y})\"\n",
    "\n",
    "    def __sub__(self, other):\n",
    "        return Vector2D(self.x - other.x, self.y - other.y)"
   ]
  },
  {
   "cell_type": "code",
   "execution_count": 11,
   "id": "c74ccfd7-000b-4aa4-9746-9384688ff836",
   "metadata": {
    "tags": []
   },
   "outputs": [
    {
     "name": "stdout",
     "output_type": "stream",
     "text": [
      "Vector2D(x=2, y=3)\n"
     ]
    }
   ],
   "source": [
    "v1 = Vector2D(3, 5)\n",
    "v2 = Vector2D(1, 2)\n",
    "result = v1 - v2\n",
    "print(result)"
   ]
  },
  {
   "cell_type": "markdown",
   "id": "ec983e89-6c45-4b07-902a-b671c26a11da",
   "metadata": {},
   "source": [
    "8. \\__mul__\n",
    "\n",
    "Use for scalar or dot product of two vectors."
   ]
  },
  {
   "cell_type": "code",
   "execution_count": 12,
   "id": "6c4071b0-7949-4530-a41f-120cdc011737",
   "metadata": {
    "tags": []
   },
   "outputs": [],
   "source": [
    "class Vector2D:\n",
    "    def __init__(self, x, y):\n",
    "        self.x = x\n",
    "        self.y = y\n",
    "\n",
    "    def __repr__(self):\n",
    "        return f\"Vector2D(x={self.x}, y={self.y})\"\n",
    "\n",
    "    def __mul__(self, other):\n",
    "        # Scalar multiplication\n",
    "        if isinstance(other, (int, float)):\n",
    "            return Vector2D(self.x * other, self.y * other)\n",
    "        # Dot product\n",
    "        elif isinstance(other, Vector2D):\n",
    "            return self.x * other.x + self.y * other.y\n",
    "        else:\n",
    "            raise TypeError(\"Unsupported operand type for *\")"
   ]
  },
  {
   "cell_type": "code",
   "execution_count": 13,
   "id": "08096e70-1651-440c-a7cc-3d82441179d3",
   "metadata": {
    "tags": []
   },
   "outputs": [
    {
     "name": "stdout",
     "output_type": "stream",
     "text": [
      "Vector2D(x=6, y=10)\n",
      "13\n"
     ]
    }
   ],
   "source": [
    "v1 = Vector2D(3, 5)\n",
    "v2 = Vector2D(1, 2)\n",
    "\n",
    "# Scalar multiplication\n",
    "result1 = v1 * 2\n",
    "print(result1)  \n",
    "# Dot product\n",
    "result2 = v1 * v2\n",
    "print(result2)"
   ]
  },
  {
   "cell_type": "markdown",
   "id": "2b7519dc-2592-4ede-af09-32c1bc235dd7",
   "metadata": {},
   "source": [
    "9. \\__getitem__"
   ]
  },
  {
   "cell_type": "code",
   "execution_count": 14,
   "id": "41fed3fb-b1c6-4889-8aa5-5f39e154d3a2",
   "metadata": {
    "tags": []
   },
   "outputs": [],
   "source": [
    "class Vector2D:\n",
    "    def __init__(self, x, y):\n",
    "        self.x = x\n",
    "        self.y = y\n",
    "\n",
    "    def __repr__(self):\n",
    "        return f\"Vector2D(x={self.x}, y={self.y})\"\n",
    "\n",
    "    def __getitem__(self, key):\n",
    "        if key == 0:\n",
    "            return self.x\n",
    "        elif key == 1:\n",
    "            return self.y\n",
    "        else:\n",
    "            raise IndexError(\"Index out of range\")"
   ]
  },
  {
   "cell_type": "code",
   "execution_count": 15,
   "id": "ab0dc7cf-0c76-4861-a2f5-e8da2e57de8c",
   "metadata": {
    "tags": []
   },
   "outputs": [
    {
     "name": "stdout",
     "output_type": "stream",
     "text": [
      "3\n",
      "5\n"
     ]
    }
   ],
   "source": [
    "v = Vector2D(3, 5)\n",
    "print(v[0])  \n",
    "print(v[1])"
   ]
  },
  {
   "cell_type": "markdown",
   "id": "1df5dae2-70cc-4b5c-9850-d99c713a61b0",
   "metadata": {},
   "source": [
    "10. \\__call__\n",
    "\n",
    "Use to call objects as if they were functions."
   ]
  },
  {
   "cell_type": "code",
   "execution_count": 16,
   "id": "1040ec6b-4cdb-45e6-9f53-983af3aae558",
   "metadata": {
    "tags": []
   },
   "outputs": [],
   "source": [
    "class Vector2D:\n",
    "    def __init__(self, x, y):\n",
    "        self.x = x\n",
    "        self.y = y\n",
    " \t \n",
    "    def __repr__(self):\n",
    "        return f\"Vector2D(x={self.x}, y={self.y})\"\n",
    "\n",
    "    def __call__(self, scalar):\n",
    "        return Vector2D(self.x * scalar, self.y * scalar)"
   ]
  },
  {
   "cell_type": "code",
   "execution_count": 17,
   "id": "5b1dedf3-9f48-4548-9064-c076175f91a0",
   "metadata": {
    "tags": []
   },
   "outputs": [
    {
     "name": "stdout",
     "output_type": "stream",
     "text": [
      "Vector2D(x=9, y=15)\n"
     ]
    }
   ],
   "source": [
    "v = Vector2D(3, 5)\n",
    "result = v(3)\n",
    "print(result)"
   ]
  },
  {
   "cell_type": "code",
   "execution_count": null,
   "id": "505403ac-0082-4464-8988-221ab6fbc5f8",
   "metadata": {},
   "outputs": [],
   "source": [
    "11. \\__getattr__\n",
    "\n",
    "Get values of specific attributes of the objects."
   ]
  },
  {
   "cell_type": "code",
   "execution_count": 18,
   "id": "9808bdbc-c7c3-4d28-bcdf-c598bce6f02f",
   "metadata": {
    "tags": []
   },
   "outputs": [],
   "source": [
    "class Vector2D:\n",
    "    def __init__(self, x, y):\n",
    "        self.x = x\n",
    "        self.y = y\n",
    "\n",
    "    def __repr__(self):\n",
    "        return f\"Vector2D(x={self.x}, y={self.y})\"\n",
    "\n",
    "    def __getattr__(self, name):\n",
    "        if name == \"magnitude\":\n",
    "            return (self.x ** 2 + self.y ** 2) ** 0.5\n",
    "        else:\n",
    "            raise AttributeError(f\"'Vector2D' object has no attribute '{name}'\")"
   ]
  },
  {
   "cell_type": "code",
   "execution_count": 19,
   "id": "1f968873-c179-4ef7-b743-fc205a351830",
   "metadata": {
    "tags": []
   },
   "outputs": [
    {
     "name": "stdout",
     "output_type": "stream",
     "text": [
      "5.0\n"
     ]
    }
   ],
   "source": [
    "v = Vector2D(3, 4)\n",
    "print(v.magnitude)"
   ]
  }
 ],
 "metadata": {
  "kernelspec": {
   "display_name": "Python 3 (ipykernel)",
   "language": "python",
   "name": "python3"
  },
  "language_info": {
   "codemirror_mode": {
    "name": "ipython",
    "version": 3
   },
   "file_extension": ".py",
   "mimetype": "text/x-python",
   "name": "python",
   "nbconvert_exporter": "python",
   "pygments_lexer": "ipython3",
   "version": "3.10.9"
  }
 },
 "nbformat": 4,
 "nbformat_minor": 5
}
