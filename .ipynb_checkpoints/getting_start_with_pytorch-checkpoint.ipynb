{
 "cells": [
  {
   "cell_type": "markdown",
   "id": "cd38ea67-b957-4b59-9289-e12aaeab61b6",
   "metadata": {},
   "source": [
    "# About PyTorch\n",
    "\n",
    "Unlike some other frameworks like TensorFlow, PyTorch uses dynamic computation graphs which allow for greater flexibility and debugging capabilities. The key benefits of PyTorch include:\n",
    "\n",
    "* Simple and intuitive Python API for building neural networks\n",
    "* Broad support for GPU/TPU acceleration\n",
    "* Built-in support for automatic differentiation\n",
    "* Distributed training capabilities\n",
    "* Interoperability with other Python libraries like NumPy\n",
    "\n",
    "PyTorch Lightning is a lightweight wrapper built on top of PyTorch that further simplifies the process of researcher workflow and model development. With Lightning, data scientists can focus more on designing models rather than boilerplate code. Key advantages of Lightning include:\n",
    "\n",
    "* Provides structure to organize PyTorch code\n",
    "* Handles training loop boilerplate code\n",
    "* Accelerates research experiments with hyperparameters tuning\n",
    "* Simplifies model scaling and deployment"
   ]
  },
  {
   "cell_type": "markdown",
   "id": "2bb72a12-1876-436f-a840-3ac3bcb6c286",
   "metadata": {},
   "source": [
    "NOTE: This doesn't run because not all elements of the lightning module are defined.\n",
    "See: https://lightning.ai/docs/pytorch/stable/data/datamodule.html#setup "
   ]
  },
  {
   "cell_type": "code",
   "execution_count": 1,
   "id": "642023b8-5bec-4417-81e0-deba79d4ab32",
   "metadata": {},
   "outputs": [],
   "source": [
    "import torch\n",
    "# import lightning"
   ]
  },
  {
   "cell_type": "markdown",
   "id": "92011797-7d54-4a5e-9867-4cc5d6655220",
   "metadata": {},
   "source": [
    "## Building a Model with Pytorch\n",
    "PyTorch uses tensors, similar to NumPy arrays, as its core data structure. Tensors can be operated on by GPUs and support automatic differentiation for building neural networks.\n",
    "\n",
    "The model below defines a convolutional neural network with two convolutional layers and three fully connected layers for classifying 10 classes. The forward() method defines how data passes through the network."
   ]
  },
  {
   "cell_type": "code",
   "execution_count": 9,
   "id": "a3b4c876-3c33-4f36-8ebe-c699a78d2f25",
   "metadata": {
    "tags": []
   },
   "outputs": [],
   "source": [
    "# defining a simple neural network for image classification\n",
    "\n",
    "\n",
    "# import torch\n",
    "import torch.nn as nn\n",
    "import torch.nn.functional as F\n",
    "\n",
    "class Net(nn.Module):\n",
    "    def __init__(self):\n",
    "        super(Net, self).__init__()\n",
    "        self.conv1 = nn.Conv2d(3, 6, 5)\n",
    "        self.pool = nn.MaxPool2d(2, 2)\n",
    "        self.conv2 = nn.Conv2d(6, 16, 5)\n",
    "        self.fc1 = nn.Linear(16 * 5 * 5, 120)\n",
    "        self.fc2 = nn.Linear(120, 84)\n",
    "        self.fc3 = nn.Linear(84, 10)\n",
    "\n",
    "    def forward(self, x):\n",
    "        x = self.pool(F.relu(self.conv1(x)))\n",
    "        x = self.pool(F.relu(self.conv2(x)))\n",
    "        x = torch.flatten(x, 1)\n",
    "        x = F.relu(self.fc1(x))\n",
    "        x = F.relu(self.fc2(x))\n",
    "        x = self.fc3(x)\n",
    "        return x\n",
    "\n",
    "net = Net()"
   ]
  },
  {
   "cell_type": "markdown",
   "id": "738da350-5c8e-46c5-8f46-372a7154d2f3",
   "metadata": {},
   "source": [
    "## Train the Model with Lightning"
   ]
  },
  {
   "cell_type": "code",
   "execution_count": 14,
   "id": "52675e04-7141-4b8e-beb8-c3f0558b58f9",
   "metadata": {
    "tags": []
   },
   "outputs": [],
   "source": [
    "import lightning as pl\n",
    "\n",
    "class LitModel(pl.LightningModule):\n",
    "    def __init__(self):\n",
    "        super().__init__()\n",
    "        self.model = Net()\n",
    "    \n",
    "    def forward(self, x):\n",
    "        return self.model(x)\n",
    "\n",
    "    def training_step(self, batch, batch_idx):\n",
    "        x, y = batch\n",
    "        y_hat = self.forward(x)\n",
    "        loss = F.cross_entropy(y_hat, y)\n",
    "        return loss\n",
    "\n",
    "    def configure_optimizers(self):\n",
    "        return torch.optim.Adam(self.parameters(), lr=0.02)\n",
    "    \n",
    "    def train_dataloader(self):\n",
    "        return DataLoader(self.mnist_train, batch_size=64)\n",
    "        \n",
    "model = LitModel()"
   ]
  },
  {
   "cell_type": "code",
   "execution_count": 15,
   "id": "643c7a7b-1b63-4a00-a561-811c7437fc7b",
   "metadata": {
    "tags": []
   },
   "outputs": [
    {
     "name": "stderr",
     "output_type": "stream",
     "text": [
      "GPU available: False, used: False\n",
      "TPU available: False, using: 0 TPU cores\n",
      "IPU available: False, using: 0 IPUs\n",
      "HPU available: False, using: 0 HPUs\n"
     ]
    },
    {
     "ename": "NameError",
     "evalue": "name 'train_dataloader' is not defined",
     "output_type": "error",
     "traceback": [
      "\u001b[0;31m---------------------------------------------------------------------------\u001b[0m",
      "\u001b[0;31mNameError\u001b[0m                                 Traceback (most recent call last)",
      "Cell \u001b[0;32mIn[15], line 2\u001b[0m\n\u001b[1;32m      1\u001b[0m trainer \u001b[38;5;241m=\u001b[39m pl\u001b[38;5;241m.\u001b[39mTrainer()\n\u001b[0;32m----> 2\u001b[0m trainer\u001b[38;5;241m.\u001b[39mfit(model, \u001b[43mtrain_dataloader\u001b[49m, val_dataloader)\n",
      "\u001b[0;31mNameError\u001b[0m: name 'train_dataloader' is not defined"
     ]
    }
   ],
   "source": [
    "trainer = pl.Trainer()\n",
    "trainer.fit(model, train_dataloader, val_dataloader)"
   ]
  },
  {
   "cell_type": "code",
   "execution_count": null,
   "id": "42412de4-755c-4e76-a640-aa56643a7326",
   "metadata": {},
   "outputs": [],
   "source": [
    "# save model results\n",
    "result = trainer.test(model, test_dataloader)\n",
    "print(result)"
   ]
  },
  {
   "cell_type": "code",
   "execution_count": null,
   "id": "34345368-c57f-41e2-b598-77376b43e745",
   "metadata": {},
   "outputs": [],
   "source": [
    "# hyperparameter tuning\n",
    "tuner = pl.Tuner(trainer)\n",
    "tuner.fit(model, train_dataloader)\n",
    "print(tuner.results)"
   ]
  },
  {
   "cell_type": "code",
   "execution_count": null,
   "id": "dfe4391c-8f25-4c8a-b060-496422700ad9",
   "metadata": {},
   "outputs": [],
   "source": [
    "# adjusting for overfitting\n",
    "model = LitModel()\n",
    "model.add_module('dropout', nn.Dropout(0.2)) # Regularization\n",
    "\n",
    "trainer = pl.Trainer(early_stop_callback=True) # Early stopping"
   ]
  },
  {
   "cell_type": "code",
   "execution_count": null,
   "id": "86935d4b-5bfb-4704-ab89-4d56cc6d8948",
   "metadata": {},
   "outputs": [],
   "source": [
    "# Save\n",
    "trainer.save_checkpoint(\"model.ckpt\") \n",
    "\n",
    "# Load\n",
    "model = LitModel.load_from_checkpoint(checkpoint_path=\"model.ckpt\")"
   ]
  }
 ],
 "metadata": {
  "kernelspec": {
   "display_name": "Python 3 (ipykernel)",
   "language": "python",
   "name": "python3"
  },
  "language_info": {
   "codemirror_mode": {
    "name": "ipython",
    "version": 3
   },
   "file_extension": ".py",
   "mimetype": "text/x-python",
   "name": "python",
   "nbconvert_exporter": "python",
   "pygments_lexer": "ipython3",
   "version": "3.8.18"
  }
 },
 "nbformat": 4,
 "nbformat_minor": 5
}
