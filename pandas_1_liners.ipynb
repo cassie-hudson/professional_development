{
 "cells": [
  {
   "cell_type": "code",
   "execution_count": 1,
   "id": "49bffed1-b8ee-4be8-9a4a-5d1352300e4c",
   "metadata": {},
   "outputs": [
    {
     "name": "stdout",
     "output_type": "stream",
     "text": [
      "   TransactionID CustomerName Product  Price  Quantity TransactionDate\n",
      "0            101    Jane Rust  Laptop   1200       1.0      2024-12-01\n",
      "1            102   june young   Phone    800       2.0      2024/12/01\n",
      "2            103     June Doe  Laptop   1200       NaN      01-12-2024\n",
      "3            104         None  Tablet   -300       1.0            None\n",
      "4            105    JANE RUST   Phone    850       1.0      2024-12-01\n"
     ]
    }
   ],
   "source": [
    "# make a sample dataset\n",
    "\n",
    "import pandas as pd\n",
    "import numpy as np\n",
    "\n",
    "# Sample e-commerce transaction data\n",
    "data = {\n",
    "    \"TransactionID\": [101, 102, 103, 104, 105],\n",
    "    \"CustomerName\": [\"Jane Rust\", \"june young\", \"June Doe\", None, \"JANE RUST\"],\n",
    "    \"Product\": [\"Laptop\", \"Phone\", \"Laptop\", \"Tablet\", \"Phone\"],\n",
    "    \"Price\": [1200, 800, 1200, -300, 850],  # Negative value indicates an issue\n",
    "    \"Quantity\": [1, 2, None, 1,1],  # Missing value\n",
    "    \"TransactionDate\": [\"2024-12-01\", \"2024/12/01\", \"01-12-2024\", None, \"2024-12-01\"],\n",
    "}\n",
    "\n",
    "df = pd.DataFrame(data)\n",
    "\n",
    "# Display the DataFrame\n",
    "print(df)"
   ]
  },
  {
   "cell_type": "code",
   "execution_count": 2,
   "id": "8da1366d-ae78-4298-9ed8-5eea7e26c048",
   "metadata": {},
   "outputs": [
    {
     "name": "stdout",
     "output_type": "stream",
     "text": [
      "<class 'pandas.core.frame.DataFrame'>\n",
      "RangeIndex: 5 entries, 0 to 4\n",
      "Data columns (total 6 columns):\n",
      " #   Column           Non-Null Count  Dtype  \n",
      "---  ------           --------------  -----  \n",
      " 0   TransactionID    5 non-null      int64  \n",
      " 1   CustomerName     4 non-null      object \n",
      " 2   Product          5 non-null      object \n",
      " 3   Price            5 non-null      int64  \n",
      " 4   Quantity         4 non-null      float64\n",
      " 5   TransactionDate  4 non-null      object \n",
      "dtypes: float64(1), int64(2), object(3)\n",
      "memory usage: 372.0+ bytes\n"
     ]
    }
   ],
   "source": [
    "df.info()"
   ]
  },
  {
   "cell_type": "markdown",
   "id": "7465ff16-8b8f-40ff-a573-d86c08d983a7",
   "metadata": {},
   "source": [
    "1. Check for missing values."
   ]
  },
  {
   "cell_type": "code",
   "execution_count": 3,
   "id": "70722e1e-b84d-4663-a9bf-b31c5bc95c36",
   "metadata": {},
   "outputs": [
    {
     "name": "stdout",
     "output_type": "stream",
     "text": [
      "Missing Values:\n",
      " TransactionID      0\n",
      "CustomerName       1\n",
      "Product            0\n",
      "Price              0\n",
      "Quantity           1\n",
      "TransactionDate    1\n",
      "dtype: int64\n"
     ]
    }
   ],
   "source": [
    "\n",
    "missing_values = df.isnull().sum()\n",
    "print(\"Missing Values:\\n\", missing_values)"
   ]
  },
  {
   "cell_type": "markdown",
   "id": "895ed562-a2e8-4eb0-9851-01d588c5c6dd",
   "metadata": {},
   "source": [
    "2. Identify unexpected datatypes."
   ]
  },
  {
   "cell_type": "code",
   "execution_count": 4,
   "id": "8721b0ab-6003-460b-9ea2-0fb6a26b4fb2",
   "metadata": {},
   "outputs": [
    {
     "name": "stdout",
     "output_type": "stream",
     "text": [
      "Data Types:\n",
      " TransactionID        int64\n",
      "CustomerName        object\n",
      "Product             object\n",
      "Price                int64\n",
      "Quantity           float64\n",
      "TransactionDate     object\n",
      "dtype: object\n"
     ]
    }
   ],
   "source": [
    "print(\"Data Types:\\n\", df.dtypes)"
   ]
  },
  {
   "cell_type": "markdown",
   "id": "04275010-1793-46a9-a25d-b6a34b217fab",
   "metadata": {},
   "source": [
    "3. Convert dates to a consistent format."
   ]
  },
  {
   "cell_type": "code",
   "execution_count": 5,
   "id": "e4ffff30-2166-4d65-b604-5386029e78e6",
   "metadata": {},
   "outputs": [
    {
     "name": "stdout",
     "output_type": "stream",
     "text": [
      "0   2024-12-01\n",
      "1          NaT\n",
      "2          NaT\n",
      "3          NaT\n",
      "4   2024-12-01\n",
      "Name: TransactionDate, dtype: datetime64[ns]\n"
     ]
    }
   ],
   "source": [
    "df[\"TransactionDate\"] = pd.to_datetime(df[\"TransactionDate\"], errors=\"coerce\")\n",
    "print(df[\"TransactionDate\"])"
   ]
  },
  {
   "cell_type": "markdown",
   "id": "1271ab27-c251-4975-bb82-ccd31e6c0cc7",
   "metadata": {},
   "source": [
    "4. Find outliers in numeric columns. Note that this isn't a 'standard' check; they just know that price shouldn't be below zero."
   ]
  },
  {
   "cell_type": "code",
   "execution_count": 6,
   "id": "3658be43-180f-4d0a-900a-02a81f889691",
   "metadata": {},
   "outputs": [
    {
     "name": "stdout",
     "output_type": "stream",
     "text": [
      "Outliers:\n",
      "    TransactionID CustomerName Product  Price  Quantity TransactionDate\n",
      "3            104         None  Tablet   -300       1.0             NaT\n"
     ]
    }
   ],
   "source": [
    "outliers = df[df[\"Price\"] < 0]\n",
    "print(\"Outliers:\\n\", outliers)"
   ]
  },
  {
   "cell_type": "markdown",
   "id": "17fee6c4-a141-4272-8f29-d4a68cde1299",
   "metadata": {},
   "source": [
    "5. Detect duplicate records."
   ]
  },
  {
   "cell_type": "code",
   "execution_count": 8,
   "id": "562f7606-66f1-40d8-a8cb-52ef1fe06f8f",
   "metadata": {},
   "outputs": [
    {
     "name": "stdout",
     "output_type": "stream",
     "text": [
      "Duplicate Records:\n",
      " Empty DataFrame\n",
      "Columns: [TransactionID, CustomerName, Product, Price, Quantity, TransactionDate]\n",
      "Index: []\n"
     ]
    }
   ],
   "source": [
    "duplicates = df.duplicated(subset=[\"CustomerName\", \"Product\"], keep=False)\n",
    "print(\"Duplicate Records:\\n\", df[duplicates])"
   ]
  },
  {
   "cell_type": "markdown",
   "id": "873b98cc-9e83-4809-91ca-06cf2d191501",
   "metadata": {},
   "source": [
    "6. Standardize capitalization in text columns."
   ]
  },
  {
   "cell_type": "code",
   "execution_count": 9,
   "id": "d7d9b882-12f5-495a-99b3-0d8d6e415a25",
   "metadata": {},
   "outputs": [
    {
     "name": "stdout",
     "output_type": "stream",
     "text": [
      "0     Jane Rust\n",
      "1    June Young\n",
      "2      June Doe\n",
      "3          None\n",
      "4     Jane Rust\n",
      "Name: CustomerName, dtype: object\n"
     ]
    }
   ],
   "source": [
    "df[\"CustomerName\"] = df[\"CustomerName\"].str.strip().str.title()\n",
    "print(df[\"CustomerName\"])"
   ]
  },
  {
   "cell_type": "markdown",
   "id": "aa271b71-face-4321-95ab-d35a565a2430",
   "metadata": {},
   "source": [
    "7. Validate data ranges (must know a valid range for the column to be validated)."
   ]
  },
  {
   "cell_type": "code",
   "execution_count": 10,
   "id": "03cd5aa7-52b3-4cd0-b1cb-1baaf0566d23",
   "metadata": {},
   "outputs": [
    {
     "name": "stdout",
     "output_type": "stream",
     "text": [
      "Invalid Prices:\n",
      "    TransactionID CustomerName Product  Price  Quantity TransactionDate\n",
      "3            104         None  Tablet   -300       1.0             NaT\n"
     ]
    }
   ],
   "source": [
    "invalid_prices = df[~df[\"Price\"].between(0, 5000)]\n",
    "print(\"Invalid Prices:\\n\", invalid_prices)"
   ]
  },
  {
   "cell_type": "markdown",
   "id": "3cb37c13-c6f7-4d58-9bf7-795c143c16a7",
   "metadata": {},
   "source": [
    "8. Count unique values in column."
   ]
  },
  {
   "cell_type": "code",
   "execution_count": 11,
   "id": "85880423-9d09-4067-a4d3-550f6d155b4c",
   "metadata": {},
   "outputs": [
    {
     "name": "stdout",
     "output_type": "stream",
     "text": [
      "Unique Products:\n",
      " Product\n",
      "Laptop    2\n",
      "Phone     2\n",
      "Tablet    1\n",
      "Name: count, dtype: int64\n"
     ]
    }
   ],
   "source": [
    "unique_products = df[\"Product\"].value_counts()\n",
    "print(\"Unique Products:\\n\", unique_products)"
   ]
  },
  {
   "cell_type": "markdown",
   "id": "37d9aa7d-ec2d-4eb2-88af-79036df6e28d",
   "metadata": {},
   "source": [
    "9. Check for inconsistent formatting across columns."
   ]
  },
  {
   "cell_type": "code",
   "execution_count": 12,
   "id": "58f94c9b-3887-4441-9372-541db37038e8",
   "metadata": {},
   "outputs": [
    {
     "name": "stdout",
     "output_type": "stream",
     "text": [
      "Inconsistent Formatting in Names:\n",
      " Empty DataFrame\n",
      "Columns: [TransactionID, CustomerName, Product, Price, Quantity, TransactionDate]\n",
      "Index: []\n"
     ]
    }
   ],
   "source": [
    "inconsistent_names = df[\"CustomerName\"].str.contains(r\"[A-Z]{2,}\", na=False)\n",
    "print(\"Inconsistent Formatting in Names:\\n\", df[inconsistent_names])"
   ]
  },
  {
   "cell_type": "code",
   "execution_count": null,
   "id": "d364ef10-dfde-450e-b574-2b4d2b835ce3",
   "metadata": {},
   "outputs": [],
   "source": [
    "10. Identify rows that meet multiple criteria."
   ]
  }
 ],
 "metadata": {
  "kernelspec": {
   "display_name": "Python 3 (ipykernel)",
   "language": "python",
   "name": "python3"
  },
  "language_info": {
   "codemirror_mode": {
    "name": "ipython",
    "version": 3
   },
   "file_extension": ".py",
   "mimetype": "text/x-python",
   "name": "python",
   "nbconvert_exporter": "python",
   "pygments_lexer": "ipython3",
   "version": "3.11.8"
  }
 },
 "nbformat": 4,
 "nbformat_minor": 5
}
