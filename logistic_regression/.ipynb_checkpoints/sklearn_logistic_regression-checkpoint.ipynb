{
 "cells": [
  {
   "cell_type": "markdown",
   "metadata": {},
   "source": [
    "# Introduction\n",
    " "
   ]
  },
  {
   "cell_type": "markdown",
   "metadata": {},
   "source": [
    "### Imports\n",
    "  Import libraries and write settings here."
   ]
  },
  {
   "cell_type": "code",
   "execution_count": 5,
   "metadata": {},
   "outputs": [],
   "source": [
    "%reload_ext autoreload\n",
    "%autoreload 2"
   ]
  },
  {
   "cell_type": "code",
   "execution_count": 4,
   "metadata": {
    "tags": []
   },
   "outputs": [],
   "source": [
    "# Core packages\n",
    "import os\n",
    "import pandas as pd\n",
    "import psycopg2\n",
    "import seaborn as sns\n",
    "\n",
    "# Options for pandas\n",
    "pd.options.display.max_columns = 50\n",
    "pd.options.display.max_rows = 30\n",
    "\n",
    "# Redshift\n",
    "redshift_host = \"gg-redshift.ci8dswb5jzrx.us-east-1.redshift.amazonaws.com\"\n",
    "\n",
    "conn_string = f\"\"\"\n",
    "    dbname='ggdata' \n",
    "    port='5439' \n",
    "    user='{os.environ.get('REDSHIFT_USER')}' \n",
    "    password='{os.environ.get('REDSHIFT_PASSWORD')}' \n",
    "    host='{redshift_host}'\"\"\"\n",
    "\n",
    "# Mysql\n",
    "user = os.environ.get('MYSQL_USER')\n",
    "pwd = os.environ.get('MYSQL_PWD')\n",
    "\n",
    "source_host = 'production-cluster.cluster-ro-cak6zpat2fik.us-east-1.rds.amazonaws.com'\n",
    "destination_host = 'production-cluster.cluster-cak6zpat2fik.us-east-1.rds.amazonaws.com'\n",
    "\n",
    "source_db = 'ggdata'\n",
    "destination_db = 'ggdashboard'\n",
    "source = 'mysql+pymysql://{0}:{1}@{2}/{3}'.format(user,pwd,source_host,source_db)\n",
    "destination = 'mysql+pymysql://{0}:{1}@{2}/{3}'.format(user,pwd,destination_host,destination_db)\n",
    "\n",
    "\n",
    "\n"
   ]
  },
  {
   "cell_type": "markdown",
   "metadata": {},
   "source": [
    "# Analysis/Modeling\n",
    " "
   ]
  },
  {
   "cell_type": "code",
   "execution_count": 9,
   "metadata": {
    "tags": []
   },
   "outputs": [],
   "source": [
    "# fetch dataset \n",
    "url = \"https://archive.ics.uci.edu/static/public/52/data.csv\"\n",
    "data = urllib.request.urlopen(url)\n",
    "df = pd.read_csv(data)\n"
   ]
  },
  {
   "cell_type": "code",
   "execution_count": 10,
   "metadata": {
    "tags": []
   },
   "outputs": [
    {
     "data": {
      "text/html": [
       "<div>\n",
       "<style scoped>\n",
       "    .dataframe tbody tr th:only-of-type {\n",
       "        vertical-align: middle;\n",
       "    }\n",
       "\n",
       "    .dataframe tbody tr th {\n",
       "        vertical-align: top;\n",
       "    }\n",
       "\n",
       "    .dataframe thead th {\n",
       "        text-align: right;\n",
       "    }\n",
       "</style>\n",
       "<table border=\"1\" class=\"dataframe\">\n",
       "  <thead>\n",
       "    <tr style=\"text-align: right;\">\n",
       "      <th></th>\n",
       "      <th>Attribute1</th>\n",
       "      <th>Attribute2</th>\n",
       "      <th>Attribute3</th>\n",
       "      <th>Attribute4</th>\n",
       "      <th>Attribute5</th>\n",
       "      <th>Attribute6</th>\n",
       "      <th>Attribute7</th>\n",
       "      <th>Attribute8</th>\n",
       "      <th>Attribute9</th>\n",
       "      <th>Attribute10</th>\n",
       "      <th>Attribute11</th>\n",
       "      <th>Attribute12</th>\n",
       "      <th>Attribute13</th>\n",
       "      <th>Attribute14</th>\n",
       "      <th>Attribute15</th>\n",
       "      <th>Attribute16</th>\n",
       "      <th>Attribute17</th>\n",
       "      <th>Attribute18</th>\n",
       "      <th>Attribute19</th>\n",
       "      <th>Attribute20</th>\n",
       "      <th>Attribute21</th>\n",
       "      <th>Attribute22</th>\n",
       "      <th>Attribute23</th>\n",
       "      <th>Attribute24</th>\n",
       "      <th>Attribute25</th>\n",
       "      <th>Attribute26</th>\n",
       "      <th>Attribute27</th>\n",
       "      <th>Attribute28</th>\n",
       "      <th>Attribute29</th>\n",
       "      <th>Attribute30</th>\n",
       "      <th>Attribute31</th>\n",
       "      <th>Attribute32</th>\n",
       "      <th>Attribute33</th>\n",
       "      <th>Attribute34</th>\n",
       "      <th>Class</th>\n",
       "    </tr>\n",
       "  </thead>\n",
       "  <tbody>\n",
       "    <tr>\n",
       "      <th>0</th>\n",
       "      <td>1</td>\n",
       "      <td>0</td>\n",
       "      <td>0.99539</td>\n",
       "      <td>-0.05889</td>\n",
       "      <td>0.85243</td>\n",
       "      <td>0.02306</td>\n",
       "      <td>0.83398</td>\n",
       "      <td>-0.37708</td>\n",
       "      <td>1.00000</td>\n",
       "      <td>0.03760</td>\n",
       "      <td>0.85243</td>\n",
       "      <td>-0.17755</td>\n",
       "      <td>0.59755</td>\n",
       "      <td>-0.44945</td>\n",
       "      <td>0.60536</td>\n",
       "      <td>-0.38223</td>\n",
       "      <td>0.84356</td>\n",
       "      <td>-0.38542</td>\n",
       "      <td>0.58212</td>\n",
       "      <td>-0.32192</td>\n",
       "      <td>0.56971</td>\n",
       "      <td>-0.29674</td>\n",
       "      <td>0.36946</td>\n",
       "      <td>-0.47357</td>\n",
       "      <td>0.56811</td>\n",
       "      <td>-0.51171</td>\n",
       "      <td>0.41078</td>\n",
       "      <td>-0.46168</td>\n",
       "      <td>0.21266</td>\n",
       "      <td>-0.34090</td>\n",
       "      <td>0.42267</td>\n",
       "      <td>-0.54487</td>\n",
       "      <td>0.18641</td>\n",
       "      <td>-0.45300</td>\n",
       "      <td>g</td>\n",
       "    </tr>\n",
       "    <tr>\n",
       "      <th>1</th>\n",
       "      <td>1</td>\n",
       "      <td>0</td>\n",
       "      <td>1.00000</td>\n",
       "      <td>-0.18829</td>\n",
       "      <td>0.93035</td>\n",
       "      <td>-0.36156</td>\n",
       "      <td>-0.10868</td>\n",
       "      <td>-0.93597</td>\n",
       "      <td>1.00000</td>\n",
       "      <td>-0.04549</td>\n",
       "      <td>0.50874</td>\n",
       "      <td>-0.67743</td>\n",
       "      <td>0.34432</td>\n",
       "      <td>-0.69707</td>\n",
       "      <td>-0.51685</td>\n",
       "      <td>-0.97515</td>\n",
       "      <td>0.05499</td>\n",
       "      <td>-0.62237</td>\n",
       "      <td>0.33109</td>\n",
       "      <td>-1.00000</td>\n",
       "      <td>-0.13151</td>\n",
       "      <td>-0.45300</td>\n",
       "      <td>-0.18056</td>\n",
       "      <td>-0.35734</td>\n",
       "      <td>-0.20332</td>\n",
       "      <td>-0.26569</td>\n",
       "      <td>-0.20468</td>\n",
       "      <td>-0.18401</td>\n",
       "      <td>-0.19040</td>\n",
       "      <td>-0.11593</td>\n",
       "      <td>-0.16626</td>\n",
       "      <td>-0.06288</td>\n",
       "      <td>-0.13738</td>\n",
       "      <td>-0.02447</td>\n",
       "      <td>b</td>\n",
       "    </tr>\n",
       "    <tr>\n",
       "      <th>2</th>\n",
       "      <td>1</td>\n",
       "      <td>0</td>\n",
       "      <td>1.00000</td>\n",
       "      <td>-0.03365</td>\n",
       "      <td>1.00000</td>\n",
       "      <td>0.00485</td>\n",
       "      <td>1.00000</td>\n",
       "      <td>-0.12062</td>\n",
       "      <td>0.88965</td>\n",
       "      <td>0.01198</td>\n",
       "      <td>0.73082</td>\n",
       "      <td>0.05346</td>\n",
       "      <td>0.85443</td>\n",
       "      <td>0.00827</td>\n",
       "      <td>0.54591</td>\n",
       "      <td>0.00299</td>\n",
       "      <td>0.83775</td>\n",
       "      <td>-0.13644</td>\n",
       "      <td>0.75535</td>\n",
       "      <td>-0.08540</td>\n",
       "      <td>0.70887</td>\n",
       "      <td>-0.27502</td>\n",
       "      <td>0.43385</td>\n",
       "      <td>-0.12062</td>\n",
       "      <td>0.57528</td>\n",
       "      <td>-0.40220</td>\n",
       "      <td>0.58984</td>\n",
       "      <td>-0.22145</td>\n",
       "      <td>0.43100</td>\n",
       "      <td>-0.17365</td>\n",
       "      <td>0.60436</td>\n",
       "      <td>-0.24180</td>\n",
       "      <td>0.56045</td>\n",
       "      <td>-0.38238</td>\n",
       "      <td>g</td>\n",
       "    </tr>\n",
       "    <tr>\n",
       "      <th>3</th>\n",
       "      <td>1</td>\n",
       "      <td>0</td>\n",
       "      <td>1.00000</td>\n",
       "      <td>-0.45161</td>\n",
       "      <td>1.00000</td>\n",
       "      <td>1.00000</td>\n",
       "      <td>0.71216</td>\n",
       "      <td>-1.00000</td>\n",
       "      <td>0.00000</td>\n",
       "      <td>0.00000</td>\n",
       "      <td>0.00000</td>\n",
       "      <td>0.00000</td>\n",
       "      <td>0.00000</td>\n",
       "      <td>0.00000</td>\n",
       "      <td>-1.00000</td>\n",
       "      <td>0.14516</td>\n",
       "      <td>0.54094</td>\n",
       "      <td>-0.39330</td>\n",
       "      <td>-1.00000</td>\n",
       "      <td>-0.54467</td>\n",
       "      <td>-0.69975</td>\n",
       "      <td>1.00000</td>\n",
       "      <td>0.00000</td>\n",
       "      <td>0.00000</td>\n",
       "      <td>1.00000</td>\n",
       "      <td>0.90695</td>\n",
       "      <td>0.51613</td>\n",
       "      <td>1.00000</td>\n",
       "      <td>1.00000</td>\n",
       "      <td>-0.20099</td>\n",
       "      <td>0.25682</td>\n",
       "      <td>1.00000</td>\n",
       "      <td>-0.32382</td>\n",
       "      <td>1.00000</td>\n",
       "      <td>b</td>\n",
       "    </tr>\n",
       "    <tr>\n",
       "      <th>4</th>\n",
       "      <td>1</td>\n",
       "      <td>0</td>\n",
       "      <td>1.00000</td>\n",
       "      <td>-0.02401</td>\n",
       "      <td>0.94140</td>\n",
       "      <td>0.06531</td>\n",
       "      <td>0.92106</td>\n",
       "      <td>-0.23255</td>\n",
       "      <td>0.77152</td>\n",
       "      <td>-0.16399</td>\n",
       "      <td>0.52798</td>\n",
       "      <td>-0.20275</td>\n",
       "      <td>0.56409</td>\n",
       "      <td>-0.00712</td>\n",
       "      <td>0.34395</td>\n",
       "      <td>-0.27457</td>\n",
       "      <td>0.52940</td>\n",
       "      <td>-0.21780</td>\n",
       "      <td>0.45107</td>\n",
       "      <td>-0.17813</td>\n",
       "      <td>0.05982</td>\n",
       "      <td>-0.35575</td>\n",
       "      <td>0.02309</td>\n",
       "      <td>-0.52879</td>\n",
       "      <td>0.03286</td>\n",
       "      <td>-0.65158</td>\n",
       "      <td>0.13290</td>\n",
       "      <td>-0.53206</td>\n",
       "      <td>0.02431</td>\n",
       "      <td>-0.62197</td>\n",
       "      <td>-0.05707</td>\n",
       "      <td>-0.59573</td>\n",
       "      <td>-0.04608</td>\n",
       "      <td>-0.65697</td>\n",
       "      <td>g</td>\n",
       "    </tr>\n",
       "  </tbody>\n",
       "</table>\n",
       "</div>"
      ],
      "text/plain": [
       "   Attribute1  Attribute2  Attribute3  Attribute4  Attribute5  Attribute6  \\\n",
       "0           1           0     0.99539    -0.05889     0.85243     0.02306   \n",
       "1           1           0     1.00000    -0.18829     0.93035    -0.36156   \n",
       "2           1           0     1.00000    -0.03365     1.00000     0.00485   \n",
       "3           1           0     1.00000    -0.45161     1.00000     1.00000   \n",
       "4           1           0     1.00000    -0.02401     0.94140     0.06531   \n",
       "\n",
       "   Attribute7  Attribute8  Attribute9  Attribute10  Attribute11  Attribute12  \\\n",
       "0     0.83398    -0.37708     1.00000      0.03760      0.85243     -0.17755   \n",
       "1    -0.10868    -0.93597     1.00000     -0.04549      0.50874     -0.67743   \n",
       "2     1.00000    -0.12062     0.88965      0.01198      0.73082      0.05346   \n",
       "3     0.71216    -1.00000     0.00000      0.00000      0.00000      0.00000   \n",
       "4     0.92106    -0.23255     0.77152     -0.16399      0.52798     -0.20275   \n",
       "\n",
       "   Attribute13  Attribute14  Attribute15  Attribute16  Attribute17  \\\n",
       "0      0.59755     -0.44945      0.60536     -0.38223      0.84356   \n",
       "1      0.34432     -0.69707     -0.51685     -0.97515      0.05499   \n",
       "2      0.85443      0.00827      0.54591      0.00299      0.83775   \n",
       "3      0.00000      0.00000     -1.00000      0.14516      0.54094   \n",
       "4      0.56409     -0.00712      0.34395     -0.27457      0.52940   \n",
       "\n",
       "   Attribute18  Attribute19  Attribute20  Attribute21  Attribute22  \\\n",
       "0     -0.38542      0.58212     -0.32192      0.56971     -0.29674   \n",
       "1     -0.62237      0.33109     -1.00000     -0.13151     -0.45300   \n",
       "2     -0.13644      0.75535     -0.08540      0.70887     -0.27502   \n",
       "3     -0.39330     -1.00000     -0.54467     -0.69975      1.00000   \n",
       "4     -0.21780      0.45107     -0.17813      0.05982     -0.35575   \n",
       "\n",
       "   Attribute23  Attribute24  Attribute25  Attribute26  Attribute27  \\\n",
       "0      0.36946     -0.47357      0.56811     -0.51171      0.41078   \n",
       "1     -0.18056     -0.35734     -0.20332     -0.26569     -0.20468   \n",
       "2      0.43385     -0.12062      0.57528     -0.40220      0.58984   \n",
       "3      0.00000      0.00000      1.00000      0.90695      0.51613   \n",
       "4      0.02309     -0.52879      0.03286     -0.65158      0.13290   \n",
       "\n",
       "   Attribute28  Attribute29  Attribute30  Attribute31  Attribute32  \\\n",
       "0     -0.46168      0.21266     -0.34090      0.42267     -0.54487   \n",
       "1     -0.18401     -0.19040     -0.11593     -0.16626     -0.06288   \n",
       "2     -0.22145      0.43100     -0.17365      0.60436     -0.24180   \n",
       "3      1.00000      1.00000     -0.20099      0.25682      1.00000   \n",
       "4     -0.53206      0.02431     -0.62197     -0.05707     -0.59573   \n",
       "\n",
       "   Attribute33  Attribute34 Class  \n",
       "0      0.18641     -0.45300     g  \n",
       "1     -0.13738     -0.02447     b  \n",
       "2      0.56045     -0.38238     g  \n",
       "3     -0.32382      1.00000     b  \n",
       "4     -0.04608     -0.65697     g  "
      ]
     },
     "execution_count": 10,
     "metadata": {},
     "output_type": "execute_result"
    }
   ],
   "source": [
    "df.head()"
   ]
  },
  {
   "cell_type": "code",
   "execution_count": 11,
   "metadata": {
    "tags": []
   },
   "outputs": [
    {
     "name": "stdout",
     "output_type": "stream",
     "text": [
      "<class 'pandas.core.frame.DataFrame'>\n",
      "RangeIndex: 351 entries, 0 to 350\n",
      "Data columns (total 35 columns):\n",
      " #   Column       Non-Null Count  Dtype  \n",
      "---  ------       --------------  -----  \n",
      " 0   Attribute1   351 non-null    int64  \n",
      " 1   Attribute2   351 non-null    int64  \n",
      " 2   Attribute3   351 non-null    float64\n",
      " 3   Attribute4   351 non-null    float64\n",
      " 4   Attribute5   351 non-null    float64\n",
      " 5   Attribute6   351 non-null    float64\n",
      " 6   Attribute7   351 non-null    float64\n",
      " 7   Attribute8   351 non-null    float64\n",
      " 8   Attribute9   351 non-null    float64\n",
      " 9   Attribute10  351 non-null    float64\n",
      " 10  Attribute11  351 non-null    float64\n",
      " 11  Attribute12  351 non-null    float64\n",
      " 12  Attribute13  351 non-null    float64\n",
      " 13  Attribute14  351 non-null    float64\n",
      " 14  Attribute15  351 non-null    float64\n",
      " 15  Attribute16  351 non-null    float64\n",
      " 16  Attribute17  351 non-null    float64\n",
      " 17  Attribute18  351 non-null    float64\n",
      " 18  Attribute19  351 non-null    float64\n",
      " 19  Attribute20  351 non-null    float64\n",
      " 20  Attribute21  351 non-null    float64\n",
      " 21  Attribute22  351 non-null    float64\n",
      " 22  Attribute23  351 non-null    float64\n",
      " 23  Attribute24  351 non-null    float64\n",
      " 24  Attribute25  351 non-null    float64\n",
      " 25  Attribute26  351 non-null    float64\n",
      " 26  Attribute27  351 non-null    float64\n",
      " 27  Attribute28  351 non-null    float64\n",
      " 28  Attribute29  351 non-null    float64\n",
      " 29  Attribute30  351 non-null    float64\n",
      " 30  Attribute31  351 non-null    float64\n",
      " 31  Attribute32  351 non-null    float64\n",
      " 32  Attribute33  351 non-null    float64\n",
      " 33  Attribute34  351 non-null    float64\n",
      " 34  Class        351 non-null    object \n",
      "dtypes: float64(32), int64(2), object(1)\n",
      "memory usage: 96.1+ KB\n",
      "None\n"
     ]
    }
   ],
   "source": [
    "print(df.info())"
   ]
  },
  {
   "cell_type": "code",
   "execution_count": 12,
   "metadata": {
    "tags": []
   },
   "outputs": [
    {
     "name": "stdout",
     "output_type": "stream",
     "text": [
      "       Attribute1  Attribute2  Attribute3  Attribute4  Attribute5  Attribute6  \\\n",
      "count  351.000000       351.0  351.000000  351.000000  351.000000  351.000000   \n",
      "mean     0.891738         0.0    0.641342    0.044372    0.601068    0.115889   \n",
      "std      0.311155         0.0    0.497708    0.441435    0.519862    0.460810   \n",
      "min      0.000000         0.0   -1.000000   -1.000000   -1.000000   -1.000000   \n",
      "25%      1.000000         0.0    0.472135   -0.064735    0.412660   -0.024795   \n",
      "50%      1.000000         0.0    0.871110    0.016310    0.809200    0.022800   \n",
      "75%      1.000000         0.0    1.000000    0.194185    1.000000    0.334655   \n",
      "max      1.000000         0.0    1.000000    1.000000    1.000000    1.000000   \n",
      "\n",
      "       Attribute7  Attribute8  Attribute9  Attribute10  Attribute11  \\\n",
      "count  351.000000  351.000000  351.000000   351.000000   351.000000   \n",
      "mean     0.550095    0.119360    0.511848     0.181345     0.476183   \n",
      "std      0.492654    0.520750    0.507066     0.483851     0.563496   \n",
      "min     -1.000000   -1.000000   -1.000000    -1.000000    -1.000000   \n",
      "25%      0.211310   -0.054840    0.087110    -0.048075     0.021120   \n",
      "50%      0.728730    0.014710    0.684210     0.018290     0.667980   \n",
      "75%      0.969240    0.445675    0.953240     0.534195     0.957895   \n",
      "max      1.000000    1.000000    1.000000     1.000000     1.000000   \n",
      "\n",
      "       Attribute12  Attribute13  Attribute14  Attribute15  Attribute16  \\\n",
      "count   351.000000   351.000000   351.000000   351.000000   351.000000   \n",
      "mean      0.155040     0.400801     0.093414     0.344159     0.071132   \n",
      "std       0.494817     0.622186     0.494873     0.652828     0.458371   \n",
      "min      -1.000000    -1.000000    -1.000000    -1.000000    -1.000000   \n",
      "25%      -0.065265     0.000000    -0.073725     0.000000    -0.081705   \n",
      "50%       0.028250     0.644070     0.030270     0.601940     0.000000   \n",
      "75%       0.482375     0.955505     0.374860     0.919330     0.308975   \n",
      "max       1.000000     1.000000     1.000000     1.000000     1.000000   \n",
      "\n",
      "       Attribute17  Attribute18  Attribute19  Attribute20  Attribute21  \\\n",
      "count   351.000000   351.000000   351.000000   351.000000   351.000000   \n",
      "mean      0.381949    -0.003617     0.359390    -0.024025     0.336695   \n",
      "std       0.618020     0.496762     0.626267     0.519076     0.609828   \n",
      "min      -1.000000    -1.000000    -1.000000    -1.000000    -1.000000   \n",
      "25%       0.000000    -0.225690     0.000000    -0.234670     0.000000   \n",
      "50%       0.590910     0.000000     0.576190     0.000000     0.499090   \n",
      "75%       0.935705     0.195285     0.899265     0.134370     0.894865   \n",
      "max       1.000000     1.000000     1.000000     1.000000     1.000000   \n",
      "\n",
      "       Attribute22  Attribute23  Attribute24  Attribute25  Attribute26  \\\n",
      "count   351.000000   351.000000   351.000000   351.000000   351.000000   \n",
      "mean      0.008296     0.362475    -0.057406     0.396135    -0.071187   \n",
      "std       0.518166     0.603767     0.527456     0.578451     0.508495   \n",
      "min      -1.000000    -1.000000    -1.000000    -1.000000    -1.000000   \n",
      "25%      -0.243870     0.000000    -0.366885     0.000000    -0.332390   \n",
      "50%       0.000000     0.531760     0.000000     0.553890    -0.015050   \n",
      "75%       0.188760     0.911235     0.164630     0.905240     0.156765   \n",
      "max       1.000000     1.000000     1.000000     1.000000     1.000000   \n",
      "\n",
      "       Attribute27  Attribute28  Attribute29  Attribute30  Attribute31  \\\n",
      "count   351.000000   351.000000   351.000000   351.000000   351.000000   \n",
      "mean      0.541641    -0.069538     0.378445    -0.027907     0.352514   \n",
      "std       0.516205     0.550025     0.575886     0.507974     0.571483   \n",
      "min      -1.000000    -1.000000    -1.000000    -1.000000    -1.000000   \n",
      "25%       0.286435    -0.443165     0.000000    -0.236885     0.000000   \n",
      "50%       0.708240    -0.017690     0.496640     0.000000     0.442770   \n",
      "75%       0.999945     0.153535     0.883465     0.154075     0.857620   \n",
      "max       1.000000     1.000000     1.000000     1.000000     1.000000   \n",
      "\n",
      "       Attribute32  Attribute33  Attribute34  \n",
      "count   351.000000   351.000000   351.000000  \n",
      "mean     -0.003794     0.349364     0.014480  \n",
      "std       0.513574     0.522663     0.468337  \n",
      "min      -1.000000    -1.000000    -1.000000  \n",
      "25%      -0.242595     0.000000    -0.165350  \n",
      "50%       0.000000     0.409560     0.000000  \n",
      "75%       0.200120     0.813765     0.171660  \n",
      "max       1.000000     1.000000     1.000000  \n"
     ]
    }
   ],
   "source": [
    "print(df.describe())"
   ]
  },
  {
   "cell_type": "code",
   "execution_count": 16,
   "metadata": {},
   "outputs": [],
   "source": [
    "# Convert the class labels from 'g' and 'b' to 1 and 0, respectively\n",
    "df[\"Class\"] = df[\"Class\"].replace({'g': 1, 'b': 0})"
   ]
  },
  {
   "cell_type": "code",
   "execution_count": 19,
   "metadata": {
    "tags": []
   },
   "outputs": [
    {
     "data": {
      "image/png": "[encoded data removed]",
      "text/plain": [
       "<Figure size 640x480 with 1 Axes>"
      ]
     },
     "metadata": {},
     "output_type": "display_data"
    }
   ],
   "source": [
    "import matplotlib.pyplot as plt\n",
    "\n",
    "# Count the number of data points in each class\n",
    "class_counts = df['Class'].value_counts()\n",
    "\n",
    "# Create a bar plot to visualize the class distribution\n",
    "plt.bar(class_counts.index, class_counts.values)\n",
    "plt.xlabel('Class Label')\n",
    "plt.ylabel('Count')\n",
    "plt.xticks(class_counts.index)\n",
    "plt.title('Class Distribution')\n",
    "plt.show()"
   ]
  },
  {
   "cell_type": "markdown",
   "metadata": {},
   "source": [
    "## Preprocessing the Data Set"
   ]
  },
  {
   "cell_type": "code",
   "execution_count": 22,
   "metadata": {
    "tags": []
   },
   "outputs": [],
   "source": [
    "X = df.drop('Class', axis=1)  # Input features\n",
    "y = df['Class']               # Target variable"
   ]
  },
  {
   "cell_type": "code",
   "execution_count": 23,
   "metadata": {
    "tags": []
   },
   "outputs": [
    {
     "name": "stderr",
     "output_type": "stream",
     "text": [
      "/tmp/ipykernel_119/2744381572.py:16: DeprecationWarning: In a future version, `df.iloc[:, i] = newvals` will attempt to set the values inplace instead of always setting a new array. To retain the old behavior, use either `df[df.columns[i]] = newvals` or, if columns are non-unique, `df.isetitem(i, newvals)`\n",
      "  X_train.iloc[:, numerical_feature_indices] = scaler.fit_transform(X_train.iloc[:, numerical_feature_indices])\n",
      "/tmp/ipykernel_119/2744381572.py:19: DeprecationWarning: In a future version, `df.iloc[:, i] = newvals` will attempt to set the values inplace instead of always setting a new array. To retain the old behavior, use either `df[df.columns[i]] = newvals` or, if columns are non-unique, `df.isetitem(i, newvals)`\n",
      "  X_test.iloc[:, numerical_feature_indices] = scaler.transform(X_test.iloc[:, numerical_feature_indices])\n"
     ]
    }
   ],
   "source": [
    "# standard scale numerical variables\n",
    "\n",
    "from sklearn.preprocessing import StandardScaler\n",
    "from sklearn.model_selection import train_test_split\n",
    "\n",
    "# Split the dataset into training and testing sets\n",
    "X_train, X_test, y_train, y_test = train_test_split(X, y, test_size=0.2, random_state=42)\n",
    "\n",
    "# Get the indices of the numerical features\n",
    "numerical_feature_indices = list(range(34))  # Assuming the numerical features are in columns 0 to 33\n",
    "\n",
    "# Initialize the StandardScaler\n",
    "scaler = StandardScaler()\n",
    "\n",
    "# Normalize the numerical features in the training set\n",
    "X_train.iloc[:, numerical_feature_indices] = scaler.fit_transform(X_train.iloc[:, numerical_feature_indices])\n",
    "\n",
    "# Normalize the numerical features in the test set using the trained scaler from the training set\n",
    "X_test.iloc[:, numerical_feature_indices] = scaler.transform(X_test.iloc[:, numerical_feature_indices])"
   ]
  },
  {
   "cell_type": "markdown",
   "metadata": {},
   "source": [
    "## Build the Model"
   ]
  },
  {
   "cell_type": "code",
   "execution_count": 24,
   "metadata": {
    "tags": []
   },
   "outputs": [
    {
     "data": {
      "text/html": [
       "<style>#sk-container-id-1 {color: black;background-color: white;}#sk-container-id-1 pre{padding: 0;}#sk-container-id-1 div.sk-toggleable {background-color: white;}#sk-container-id-1 label.sk-toggleable__label {cursor: pointer;display: block;width: 100%;margin-bottom: 0;padding: 0.3em;box-sizing: border-box;text-align: center;}#sk-container-id-1 label.sk-toggleable__label-arrow:before {content: \"▸\";float: left;margin-right: 0.25em;color: #696969;}#sk-container-id-1 label.sk-toggleable__label-arrow:hover:before {color: black;}#sk-container-id-1 div.sk-estimator:hover label.sk-toggleable__label-arrow:before {color: black;}#sk-container-id-1 div.sk-toggleable__content {max-height: 0;max-width: 0;overflow: hidden;text-align: left;background-color: #f0f8ff;}#sk-container-id-1 div.sk-toggleable__content pre {margin: 0.2em;color: black;border-radius: 0.25em;background-color: #f0f8ff;}#sk-container-id-1 input.sk-toggleable__control:checked~div.sk-toggleable__content {max-height: 200px;max-width: 100%;overflow: auto;}#sk-container-id-1 input.sk-toggleable__control:checked~label.sk-toggleable__label-arrow:before {content: \"▾\";}#sk-container-id-1 div.sk-estimator input.sk-toggleable__control:checked~label.sk-toggleable__label {background-color: #d4ebff;}#sk-container-id-1 div.sk-label input.sk-toggleable__control:checked~label.sk-toggleable__label {background-color: #d4ebff;}#sk-container-id-1 input.sk-hidden--visually {border: 0;clip: rect(1px 1px 1px 1px);clip: rect(1px, 1px, 1px, 1px);height: 1px;margin: -1px;overflow: hidden;padding: 0;position: absolute;width: 1px;}#sk-container-id-1 div.sk-estimator {font-family: monospace;background-color: #f0f8ff;border: 1px dotted black;border-radius: 0.25em;box-sizing: border-box;margin-bottom: 0.5em;}#sk-container-id-1 div.sk-estimator:hover {background-color: #d4ebff;}#sk-container-id-1 div.sk-parallel-item::after {content: \"\";width: 100%;border-bottom: 1px solid gray;flex-grow: 1;}#sk-container-id-1 div.sk-label:hover label.sk-toggleable__label {background-color: #d4ebff;}#sk-container-id-1 div.sk-serial::before {content: \"\";position: absolute;border-left: 1px solid gray;box-sizing: border-box;top: 0;bottom: 0;left: 50%;z-index: 0;}#sk-container-id-1 div.sk-serial {display: flex;flex-direction: column;align-items: center;background-color: white;padding-right: 0.2em;padding-left: 0.2em;position: relative;}#sk-container-id-1 div.sk-item {position: relative;z-index: 1;}#sk-container-id-1 div.sk-parallel {display: flex;align-items: stretch;justify-content: center;background-color: white;position: relative;}#sk-container-id-1 div.sk-item::before, #sk-container-id-1 div.sk-parallel-item::before {content: \"\";position: absolute;border-left: 1px solid gray;box-sizing: border-box;top: 0;bottom: 0;left: 50%;z-index: -1;}#sk-container-id-1 div.sk-parallel-item {display: flex;flex-direction: column;z-index: 1;position: relative;background-color: white;}#sk-container-id-1 div.sk-parallel-item:first-child::after {align-self: flex-end;width: 50%;}#sk-container-id-1 div.sk-parallel-item:last-child::after {align-self: flex-start;width: 50%;}#sk-container-id-1 div.sk-parallel-item:only-child::after {width: 0;}#sk-container-id-1 div.sk-dashed-wrapped {border: 1px dashed gray;margin: 0 0.4em 0.5em 0.4em;box-sizing: border-box;padding-bottom: 0.4em;background-color: white;}#sk-container-id-1 div.sk-label label {font-family: monospace;font-weight: bold;display: inline-block;line-height: 1.2em;}#sk-container-id-1 div.sk-label-container {text-align: center;}#sk-container-id-1 div.sk-container {/* jupyter's `normalize.less` sets `[hidden] { display: none; }` but bootstrap.min.css set `[hidden] { display: none !important; }` so we also need the `!important` here to be able to override the default hidden behavior on the sphinx rendered scikit-learn.org. See: https://github.com/scikit-learn/scikit-learn/issues/21755 */display: inline-block !important;position: relative;}#sk-container-id-1 div.sk-text-repr-fallback {display: none;}</style><div id=\"sk-container-id-1\" class=\"sk-top-container\"><div class=\"sk-text-repr-fallback\"><pre>LogisticRegression(class_weight=&#x27;balanced&#x27;)</pre><b>In a Jupyter environment, please rerun this cell to show the HTML representation or trust the notebook. <br />On GitHub, the HTML representation is unable to render, please try loading this page with nbviewer.org.</b></div><div class=\"sk-container\" hidden><div class=\"sk-item\"><div class=\"sk-estimator sk-toggleable\"><input class=\"sk-toggleable__control sk-hidden--visually\" id=\"sk-estimator-id-1\" type=\"checkbox\" checked><label for=\"sk-estimator-id-1\" class=\"sk-toggleable__label sk-toggleable__label-arrow\">LogisticRegression</label><div class=\"sk-toggleable__content\"><pre>LogisticRegression(class_weight=&#x27;balanced&#x27;)</pre></div></div></div></div></div>"
      ],
      "text/plain": [
       "LogisticRegression(class_weight='balanced')"
      ]
     },
     "execution_count": 24,
     "metadata": {},
     "output_type": "execute_result"
    }
   ],
   "source": [
    "# Build logistic regression model\n",
    "# class_weight = balanced is used to account for the imbalance between classes\n",
    "from sklearn.linear_model import LogisticRegression\n",
    "\n",
    "model = LogisticRegression(class_weight='balanced')\n",
    "model.fit(X_train, y_train)\n"
   ]
  },
  {
   "cell_type": "markdown",
   "metadata": {},
   "source": [
    "## Evaluate Results"
   ]
  },
  {
   "cell_type": "code",
   "execution_count": 25,
   "metadata": {
    "tags": []
   },
   "outputs": [
    {
     "name": "stdout",
     "output_type": "stream",
     "text": [
      "Accuracy: 0.87\n",
      "Classification Report:\n",
      "               precision    recall  f1-score   support\n",
      "\n",
      "           0       1.00      0.68      0.81        28\n",
      "           1       0.83      1.00      0.91        43\n",
      "\n",
      "    accuracy                           0.87        71\n",
      "   macro avg       0.91      0.84      0.86        71\n",
      "weighted avg       0.90      0.87      0.87        71\n",
      "\n"
     ]
    }
   ],
   "source": [
    "from sklearn.metrics import accuracy_score, classification_report\n",
    "\n",
    "y_pred = model.predict(X_test)\n",
    "accuracy = accuracy_score(y_test, y_pred)\n",
    "print(f\"Accuracy: {accuracy:.2f}\")\n",
    "\n",
    "classification_rep = classification_report(y_test, y_pred)\n",
    "print(\"Classification Report:\\n\", classification_rep)"
   ]
  }
 ],
 "metadata": {
  "kernelspec": {
   "display_name": "Python 3 (ipykernel)",
   "language": "python",
   "name": "python3"
  },
  "language_info": {
   "codemirror_mode": {
    "name": "ipython",
    "version": 3
   },
   "file_extension": ".py",
   "mimetype": "text/x-python",
   "name": "python",
   "nbconvert_exporter": "python",
   "pygments_lexer": "ipython3",
   "version": "3.10.9"
  }
 },
 "nbformat": 4,
 "nbformat_minor": 4
}
