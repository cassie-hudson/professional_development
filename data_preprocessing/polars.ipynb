{
 "cells": [
  {
   "cell_type": "code",
   "execution_count": 1,
   "id": "b5a6f686-a1d9-41c7-a236-75b55cffd0d1",
   "metadata": {
    "tags": []
   },
   "outputs": [
    {
     "name": "stdout",
     "output_type": "stream",
     "text": [
      "Collecting polars\n",
      "  Obtaining dependency information for polars from https://files.pythonhosted.org/packages/af/49/476e176a703f84b685121396c3f1eb01ec1418f18e1fa357ac99cc67924f/polars-0.20.13-cp38-abi3-macosx_10_12_x86_64.whl.metadata\n",
      "  Downloading polars-0.20.13-cp38-abi3-macosx_10_12_x86_64.whl.metadata (15 kB)\n",
      "Downloading polars-0.20.13-cp38-abi3-macosx_10_12_x86_64.whl (24.8 MB)\n",
      "\u001b[2K   \u001b[38;2;114;156;31m━━━━━━━━━━━━━━━━━━━━━━━━━━━━━━━━━━━━━━━━\u001b[0m \u001b[32m24.8/24.8 MB\u001b[0m \u001b[31m8.3 MB/s\u001b[0m eta \u001b[36m0:00:00\u001b[0mm eta \u001b[36m0:00:01\u001b[0m[36m0:00:01\u001b[0mm\n",
      "\u001b[?25hInstalling collected packages: polars\n",
      "Successfully installed polars-0.20.13\n"
     ]
    }
   ],
   "source": [
    "!pip install polars\n",
    "import polars as pl"
   ]
  },
  {
   "cell_type": "markdown",
   "id": "bc5178af-ce2a-4aff-9bcd-cf00e2686de9",
   "metadata": {},
   "source": [
    "# Main Verbs\n",
    "For a single dataset:\n",
    "\n",
    "* Column selection: `select()` + `drop()`\n",
    "* Creating or altering columns: `with_columns()`\n",
    "* Subsetting rows: `filter()`\n",
    "* Ordering rows: `sort()`\n",
    "* Computing group-level summary metrics: `group_by()` + `agg()`\n",
    "\n",
    "For multiple datasets:\n",
    "\n",
    "* Merging on a shared key: `join(strategy = '*')`; can optionally pass validation and renaming by appended suffix.\n",
    "* Stacking datasets of the same structure: `concat()`\n",
    "* Transforming rows and columns: `pivot()`"
   ]
  },
  {
   "cell_type": "markdown",
   "id": "4dd155f0-d72f-4814-af18-9607bb8ab784",
   "metadata": {},
   "source": [
    "# Advanced Wrangling\n",
    "`polars` dataframes will print the shape, column names and datatypes."
   ]
  },
  {
   "cell_type": "code",
   "execution_count": 3,
   "id": "51609332-abf5-47de-9a3a-f719b601edc2",
   "metadata": {
    "tags": []
   },
   "outputs": [
    {
     "data": {
      "text/html": [
       "<div><style>\n",
       ".dataframe > thead > tr,\n",
       ".dataframe > tbody > tr {\n",
       "  text-align: right;\n",
       "  white-space: pre-wrap;\n",
       "}\n",
       "</style>\n",
       "<small>shape: (4, 3)</small><table border=\"1\" class=\"dataframe\"><thead><tr><th>a</th><th>b</th><th>c</th></tr><tr><td>i64</td><td>i64</td><td>i64</td></tr></thead><tbody><tr><td>1</td><td>3</td><td>7</td></tr><tr><td>1</td><td>4</td><td>8</td></tr><tr><td>2</td><td>5</td><td>9</td></tr><tr><td>2</td><td>6</td><td>0</td></tr></tbody></table></div>"
      ],
      "text/plain": [
       "shape: (4, 3)\n",
       "┌─────┬─────┬─────┐\n",
       "│ a   ┆ b   ┆ c   │\n",
       "│ --- ┆ --- ┆ --- │\n",
       "│ i64 ┆ i64 ┆ i64 │\n",
       "╞═════╪═════╪═════╡\n",
       "│ 1   ┆ 3   ┆ 7   │\n",
       "│ 1   ┆ 4   ┆ 8   │\n",
       "│ 2   ┆ 5   ┆ 9   │\n",
       "│ 2   ┆ 6   ┆ 0   │\n",
       "└─────┴─────┴─────┘"
      ]
     },
     "execution_count": 3,
     "metadata": {},
     "output_type": "execute_result"
    }
   ],
   "source": [
    "# create a fake polars dataframe\n",
    "\n",
    "df = pl.DataFrame({'a':[1,1,2,2], \n",
    "                   'b':[3,4,5,6], \n",
    "                   'c':[7,8,9,0]})\n",
    "\n",
    "df.head()"
   ]
  },
  {
   "cell_type": "markdown",
   "id": "c2458219-c7ff-47a1-ab83-eb5c25f8f1dc",
   "metadata": {},
   "source": [
    "## Horizontal Functions"
   ]
  },
  {
   "cell_type": "code",
   "execution_count": 8,
   "id": "76e88eb4-c86d-442b-9091-1da0c2f06ee4",
   "metadata": {
    "tags": []
   },
   "outputs": [
    {
     "data": {
      "text/html": [
       "<div><style>\n",
       ".dataframe > thead > tr,\n",
       ".dataframe > tbody > tr {\n",
       "  text-align: right;\n",
       "  white-space: pre-wrap;\n",
       "}\n",
       "</style>\n",
       "<small>shape: (4, 4)</small><table border=\"1\" class=\"dataframe\"><thead><tr><th>a</th><th>b</th><th>c</th><th>b_plus_c</th></tr><tr><td>i64</td><td>i64</td><td>i64</td><td>i64</td></tr></thead><tbody><tr><td>1</td><td>3</td><td>7</td><td>10</td></tr><tr><td>1</td><td>4</td><td>8</td><td>12</td></tr><tr><td>2</td><td>5</td><td>9</td><td>14</td></tr><tr><td>2</td><td>6</td><td>0</td><td>6</td></tr></tbody></table></div>"
      ],
      "text/plain": [
       "shape: (4, 4)\n",
       "┌─────┬─────┬─────┬──────────┐\n",
       "│ a   ┆ b   ┆ c   ┆ b_plus_c │\n",
       "│ --- ┆ --- ┆ --- ┆ ---      │\n",
       "│ i64 ┆ i64 ┆ i64 ┆ i64      │\n",
       "╞═════╪═════╪═════╪══════════╡\n",
       "│ 1   ┆ 3   ┆ 7   ┆ 10       │\n",
       "│ 1   ┆ 4   ┆ 8   ┆ 12       │\n",
       "│ 2   ┆ 5   ┆ 9   ┆ 14       │\n",
       "│ 2   ┆ 6   ┆ 0   ┆ 6        │\n",
       "└─────┴─────┴─────┴──────────┘"
      ]
     },
     "execution_count": 8,
     "metadata": {},
     "output_type": "execute_result"
    }
   ],
   "source": [
    "df.with_columns(\n",
    "    b_plus_c = pl.sum_horizontal(pl.col('b'), pl.col('c'))\n",
    ")"
   ]
  },
  {
   "cell_type": "markdown",
   "id": "43be9c64-d2fa-4808-8fd5-1e269c7a219d",
   "metadata": {},
   "source": [
    "## Column Selectors"
   ]
  },
  {
   "cell_type": "code",
   "execution_count": 11,
   "id": "acc2a344-4040-402d-b1dd-a68c69932ceb",
   "metadata": {
    "tags": []
   },
   "outputs": [],
   "source": [
    "import polars.selectors as cs"
   ]
  },
  {
   "cell_type": "code",
   "execution_count": 12,
   "id": "af93d1bb-50b8-4b03-b44c-04e510e7b261",
   "metadata": {
    "tags": []
   },
   "outputs": [],
   "source": [
    "# cast column to a different data type\n",
    "df = df.with_columns(pl.col('a').cast(pl.Utf8))"
   ]
  },
  {
   "cell_type": "code",
   "execution_count": 14,
   "id": "d2fce73a-23d6-4198-b4d7-8a29e62dc620",
   "metadata": {
    "tags": []
   },
   "outputs": [
    {
     "data": {
      "text/html": [
       "<div><style>\n",
       ".dataframe > thead > tr,\n",
       ".dataframe > tbody > tr {\n",
       "  text-align: right;\n",
       "  white-space: pre-wrap;\n",
       "}\n",
       "</style>\n",
       "<small>shape: (4, 2)</small><table border=\"1\" class=\"dataframe\"><thead><tr><th>b</th><th>a</th></tr><tr><td>i64</td><td>str</td></tr></thead><tbody><tr><td>3</td><td>&quot;1&quot;</td></tr><tr><td>4</td><td>&quot;1&quot;</td></tr><tr><td>5</td><td>&quot;2&quot;</td></tr><tr><td>6</td><td>&quot;2&quot;</td></tr></tbody></table></div>"
      ],
      "text/plain": [
       "shape: (4, 2)\n",
       "┌─────┬─────┐\n",
       "│ b   ┆ a   │\n",
       "│ --- ┆ --- │\n",
       "│ i64 ┆ str │\n",
       "╞═════╪═════╡\n",
       "│ 3   ┆ 1   │\n",
       "│ 4   ┆ 1   │\n",
       "│ 5   ┆ 2   │\n",
       "│ 6   ┆ 2   │\n",
       "└─────┴─────┘"
      ]
     },
     "execution_count": 14,
     "metadata": {},
     "output_type": "execute_result"
    }
   ],
   "source": [
    "# select columns by name or datatype\n",
    "df.select(cs.starts_with('b') | cs.string())"
   ]
  },
  {
   "cell_type": "code",
   "execution_count": 15,
   "id": "d17ce01b-2366-4ddf-a1a2-607a30ae3c76",
   "metadata": {
    "tags": []
   },
   "outputs": [
    {
     "data": {
      "text/html": [
       "<div><style>\n",
       ".dataframe > thead > tr,\n",
       ".dataframe > tbody > tr {\n",
       "  text-align: right;\n",
       "  white-space: pre-wrap;\n",
       "}\n",
       "</style>\n",
       "<small>shape: (4, 2)</small><table border=\"1\" class=\"dataframe\"><thead><tr><th>b</th><th>c</th></tr><tr><td>i64</td><td>i64</td></tr></thead><tbody><tr><td>3</td><td>7</td></tr><tr><td>4</td><td>8</td></tr><tr><td>5</td><td>9</td></tr><tr><td>6</td><td>0</td></tr></tbody></table></div>"
      ],
      "text/plain": [
       "shape: (4, 2)\n",
       "┌─────┬─────┐\n",
       "│ b   ┆ c   │\n",
       "│ --- ┆ --- │\n",
       "│ i64 ┆ i64 │\n",
       "╞═════╪═════╡\n",
       "│ 3   ┆ 7   │\n",
       "│ 4   ┆ 8   │\n",
       "│ 5   ┆ 9   │\n",
       "│ 6   ┆ 0   │\n",
       "└─────┴─────┘"
      ]
     },
     "execution_count": 15,
     "metadata": {},
     "output_type": "execute_result"
    }
   ],
   "source": [
    "# negative select conditions\n",
    "df.select(~cs.string())"
   ]
  },
  {
   "cell_type": "markdown",
   "id": "f8cec9a5-ccf4-4842-9ce0-876059131ea5",
   "metadata": {},
   "source": [
    "## Using `with_columns`"
   ]
  },
  {
   "cell_type": "code",
   "execution_count": 16,
   "id": "299f725e-15dd-4847-92e9-50b5f8bd4c65",
   "metadata": {
    "tags": []
   },
   "outputs": [
    {
     "data": {
      "text/html": [
       "<div><style>\n",
       ".dataframe > thead > tr,\n",
       ".dataframe > tbody > tr {\n",
       "  text-align: right;\n",
       "  white-space: pre-wrap;\n",
       "}\n",
       "</style>\n",
       "<small>shape: (4, 5)</small><table border=\"1\" class=\"dataframe\"><thead><tr><th>a</th><th>b</th><th>c</th><th>b_plus1</th><th>c_plus1</th></tr><tr><td>str</td><td>i64</td><td>i64</td><td>i64</td><td>i64</td></tr></thead><tbody><tr><td>&quot;1&quot;</td><td>3</td><td>7</td><td>4</td><td>8</td></tr><tr><td>&quot;1&quot;</td><td>4</td><td>8</td><td>5</td><td>9</td></tr><tr><td>&quot;2&quot;</td><td>5</td><td>9</td><td>6</td><td>10</td></tr><tr><td>&quot;2&quot;</td><td>6</td><td>0</td><td>7</td><td>1</td></tr></tbody></table></div>"
      ],
      "text/plain": [
       "shape: (4, 5)\n",
       "┌─────┬─────┬─────┬─────────┬─────────┐\n",
       "│ a   ┆ b   ┆ c   ┆ b_plus1 ┆ c_plus1 │\n",
       "│ --- ┆ --- ┆ --- ┆ ---     ┆ ---     │\n",
       "│ str ┆ i64 ┆ i64 ┆ i64     ┆ i64     │\n",
       "╞═════╪═════╪═════╪═════════╪═════════╡\n",
       "│ 1   ┆ 3   ┆ 7   ┆ 4       ┆ 8       │\n",
       "│ 1   ┆ 4   ┆ 8   ┆ 5       ┆ 9       │\n",
       "│ 2   ┆ 5   ┆ 9   ┆ 6       ┆ 10      │\n",
       "│ 2   ┆ 6   ┆ 0   ┆ 7       ┆ 1       │\n",
       "└─────┴─────┴─────┴─────────┴─────────┘"
      ]
     },
     "execution_count": 16,
     "metadata": {},
     "output_type": "execute_result"
    }
   ],
   "source": [
    "# find all integer columns, add one to each and then create new column names\n",
    "df.with_columns(\n",
    "    cs.integer().add(1).name.suffix(\"_plus1\")\n",
    ")"
   ]
  },
  {
   "cell_type": "code",
   "execution_count": 17,
   "id": "e4d86dd5-3211-4d6a-afc9-6fd8c7197810",
   "metadata": {
    "tags": []
   },
   "outputs": [
    {
     "data": {
      "text/html": [
       "<div><style>\n",
       ".dataframe > thead > tr,\n",
       ".dataframe > tbody > tr {\n",
       "  text-align: right;\n",
       "  white-space: pre-wrap;\n",
       "}\n",
       "</style>\n",
       "<small>shape: (4, 4)</small><table border=\"1\" class=\"dataframe\"><thead><tr><th>a</th><th>b</th><th>c</th><th>row_total</th></tr><tr><td>str</td><td>i64</td><td>i64</td><td>i64</td></tr></thead><tbody><tr><td>&quot;1&quot;</td><td>3</td><td>7</td><td>10</td></tr><tr><td>&quot;1&quot;</td><td>4</td><td>8</td><td>12</td></tr><tr><td>&quot;2&quot;</td><td>5</td><td>9</td><td>14</td></tr><tr><td>&quot;2&quot;</td><td>6</td><td>0</td><td>6</td></tr></tbody></table></div>"
      ],
      "text/plain": [
       "shape: (4, 4)\n",
       "┌─────┬─────┬─────┬───────────┐\n",
       "│ a   ┆ b   ┆ c   ┆ row_total │\n",
       "│ --- ┆ --- ┆ --- ┆ ---       │\n",
       "│ str ┆ i64 ┆ i64 ┆ i64       │\n",
       "╞═════╪═════╪═════╪═══════════╡\n",
       "│ 1   ┆ 3   ┆ 7   ┆ 10        │\n",
       "│ 1   ┆ 4   ┆ 8   ┆ 12        │\n",
       "│ 2   ┆ 5   ┆ 9   ┆ 14        │\n",
       "│ 2   ┆ 6   ┆ 0   ┆ 6         │\n",
       "└─────┴─────┴─────┴───────────┘"
      ]
     },
     "execution_count": 17,
     "metadata": {},
     "output_type": "execute_result"
    }
   ],
   "source": [
    "# select a set of variables for rowwise transformations\n",
    "df.with_columns(\n",
    "    row_total = pl.sum_horizontal(cs.integer())\n",
    ")"
   ]
  },
  {
   "cell_type": "markdown",
   "id": "73096ff3-18da-4fa6-b69b-aff09972660a",
   "metadata": {},
   "source": [
    "## Using `group_by` and `agg`"
   ]
  },
  {
   "cell_type": "code",
   "execution_count": 19,
   "id": "564d2ea0-cf33-45ed-914b-75057ef25f33",
   "metadata": {
    "tags": []
   },
   "outputs": [
    {
     "data": {
      "text/html": [
       "<div><style>\n",
       ".dataframe > thead > tr,\n",
       ".dataframe > tbody > tr {\n",
       "  text-align: right;\n",
       "  white-space: pre-wrap;\n",
       "}\n",
       "</style>\n",
       "<small>shape: (2, 3)</small><table border=\"1\" class=\"dataframe\"><thead><tr><th>a</th><th>b</th><th>c</th></tr><tr><td>str</td><td>i64</td><td>i64</td></tr></thead><tbody><tr><td>&quot;1&quot;</td><td>7</td><td>15</td></tr><tr><td>&quot;2&quot;</td><td>11</td><td>9</td></tr></tbody></table></div>"
      ],
      "text/plain": [
       "shape: (2, 3)\n",
       "┌─────┬─────┬─────┐\n",
       "│ a   ┆ b   ┆ c   │\n",
       "│ --- ┆ --- ┆ --- │\n",
       "│ str ┆ i64 ┆ i64 │\n",
       "╞═════╪═════╪═════╡\n",
       "│ 1   ┆ 7   ┆ 15  │\n",
       "│ 2   ┆ 11  ┆ 9   │\n",
       "└─────┴─────┴─────┘"
      ]
     },
     "execution_count": 19,
     "metadata": {},
     "output_type": "execute_result"
    }
   ],
   "source": [
    "# column selectors can be passed as inputs where columns are accepted\n",
    "# group by string columns, sum all integer columns\n",
    "df.group_by(cs.string()).agg(cs.integer().sum()) "
   ]
  },
  {
   "cell_type": "markdown",
   "id": "d2839bbf-a8d2-4e92-bc66-8dea0e47a7fc",
   "metadata": {},
   "source": [
    "## Window Functions"
   ]
  },
  {
   "cell_type": "code",
   "execution_count": 20,
   "id": "ffebb31a-d072-4133-8a96-7abdea006cb4",
   "metadata": {
    "tags": []
   },
   "outputs": [
    {
     "data": {
      "text/html": [
       "<div><style>\n",
       ".dataframe > thead > tr,\n",
       ".dataframe > tbody > tr {\n",
       "  text-align: right;\n",
       "  white-space: pre-wrap;\n",
       "}\n",
       "</style>\n",
       "<small>shape: (4, 4)</small><table border=\"1\" class=\"dataframe\"><thead><tr><th>a</th><th>b</th><th>c</th><th>min_b</th></tr><tr><td>str</td><td>i64</td><td>i64</td><td>i64</td></tr></thead><tbody><tr><td>&quot;1&quot;</td><td>3</td><td>7</td><td>3</td></tr><tr><td>&quot;1&quot;</td><td>4</td><td>8</td><td>3</td></tr><tr><td>&quot;2&quot;</td><td>5</td><td>9</td><td>5</td></tr><tr><td>&quot;2&quot;</td><td>6</td><td>0</td><td>5</td></tr></tbody></table></div>"
      ],
      "text/plain": [
       "shape: (4, 4)\n",
       "┌─────┬─────┬─────┬───────┐\n",
       "│ a   ┆ b   ┆ c   ┆ min_b │\n",
       "│ --- ┆ --- ┆ --- ┆ ---   │\n",
       "│ str ┆ i64 ┆ i64 ┆ i64   │\n",
       "╞═════╪═════╪═════╪═══════╡\n",
       "│ 1   ┆ 3   ┆ 7   ┆ 3     │\n",
       "│ 1   ┆ 4   ┆ 8   ┆ 3     │\n",
       "│ 2   ┆ 5   ┆ 9   ┆ 5     │\n",
       "│ 2   ┆ 6   ┆ 0   ┆ 5     │\n",
       "└─────┴─────┴─────┴───────┘"
      ]
     },
     "execution_count": 20,
     "metadata": {},
     "output_type": "execute_result"
    }
   ],
   "source": [
    "# calculate the minimum, retaining original grain of dataset\n",
    "df.with_columns(\n",
    "    min_b = pl.col('b').min().over('a')\n",
    ")"
   ]
  },
  {
   "cell_type": "code",
   "execution_count": 22,
   "id": "fcb72c9e-dc53-42c8-900a-75e8ab36704a",
   "metadata": {
    "tags": []
   },
   "outputs": [
    {
     "data": {
      "text/html": [
       "<div><style>\n",
       ".dataframe > thead > tr,\n",
       ".dataframe > tbody > tr {\n",
       "  text-align: right;\n",
       "  white-space: pre-wrap;\n",
       "}\n",
       "</style>\n",
       "<small>shape: (4, 4)</small><table border=\"1\" class=\"dataframe\"><thead><tr><th>a</th><th>b</th><th>c</th><th>n_b_odd</th></tr><tr><td>str</td><td>i64</td><td>i64</td><td>i32</td></tr></thead><tbody><tr><td>&quot;1&quot;</td><td>3</td><td>7</td><td>1</td></tr><tr><td>&quot;1&quot;</td><td>4</td><td>8</td><td>1</td></tr><tr><td>&quot;2&quot;</td><td>5</td><td>9</td><td>1</td></tr><tr><td>&quot;2&quot;</td><td>6</td><td>0</td><td>1</td></tr></tbody></table></div>"
      ],
      "text/plain": [
       "shape: (4, 4)\n",
       "┌─────┬─────┬─────┬─────────┐\n",
       "│ a   ┆ b   ┆ c   ┆ n_b_odd │\n",
       "│ --- ┆ --- ┆ --- ┆ ---     │\n",
       "│ str ┆ i64 ┆ i64 ┆ i32     │\n",
       "╞═════╪═════╪═════╪═════════╡\n",
       "│ 1   ┆ 3   ┆ 7   ┆ 1       │\n",
       "│ 1   ┆ 4   ┆ 8   ┆ 1       │\n",
       "│ 2   ┆ 5   ┆ 9   ┆ 1       │\n",
       "│ 2   ┆ 6   ┆ 0   ┆ 1       │\n",
       "└─────┴─────┴─────┴─────────┘"
      ]
     },
     "execution_count": 22,
     "metadata": {},
     "output_type": "execute_result"
    }
   ],
   "source": [
    "# chains window function with case statement for when column is null\n",
    "df.with_columns(\n",
    "    n_b_odd = pl.when((pl.col('b') % 2) == 0)\n",
    "                .then(1)\n",
    "                .otherwise(0)\n",
    "                .sum().over('a')\n",
    ")"
   ]
  },
  {
   "cell_type": "markdown",
   "id": "d39e632b-bb26-4cdf-a39c-6fddb19c2e66",
   "metadata": {},
   "source": [
    "## List Columns & Nested Frames"
   ]
  },
  {
   "cell_type": "code",
   "execution_count": 24,
   "id": "12ca07d1-af81-4fb8-87b6-56c5ab8b7edb",
   "metadata": {
    "tags": []
   },
   "outputs": [
    {
     "data": {
      "text/html": [
       "<div><style>\n",
       ".dataframe > thead > tr,\n",
       ".dataframe > tbody > tr {\n",
       "  text-align: right;\n",
       "  white-space: pre-wrap;\n",
       "}\n",
       "</style>\n",
       "<small>shape: (4, 4)</small><table border=\"1\" class=\"dataframe\"><thead><tr><th>a</th><th>b</th><th>c</th><th>list_col</th></tr><tr><td>str</td><td>i64</td><td>i64</td><td>struct[2]</td></tr></thead><tbody><tr><td>&quot;1&quot;</td><td>3</td><td>7</td><td>{3,7}</td></tr><tr><td>&quot;1&quot;</td><td>4</td><td>8</td><td>{4,8}</td></tr><tr><td>&quot;2&quot;</td><td>5</td><td>9</td><td>{5,9}</td></tr><tr><td>&quot;2&quot;</td><td>6</td><td>0</td><td>{6,0}</td></tr></tbody></table></div>"
      ],
      "text/plain": [
       "shape: (4, 4)\n",
       "┌─────┬─────┬─────┬───────────┐\n",
       "│ a   ┆ b   ┆ c   ┆ list_col  │\n",
       "│ --- ┆ --- ┆ --- ┆ ---       │\n",
       "│ str ┆ i64 ┆ i64 ┆ struct[2] │\n",
       "╞═════╪═════╪═════╪═══════════╡\n",
       "│ 1   ┆ 3   ┆ 7   ┆ {3,7}     │\n",
       "│ 1   ┆ 4   ┆ 8   ┆ {4,8}     │\n",
       "│ 2   ┆ 5   ┆ 9   ┆ {5,9}     │\n",
       "│ 2   ┆ 6   ┆ 0   ┆ {6,0}     │\n",
       "└─────┴─────┴─────┴───────────┘"
      ]
     },
     "execution_count": 24,
     "metadata": {},
     "output_type": "execute_result"
    }
   ],
   "source": [
    "# list columns can be created with pl.struct()\n",
    "df.with_columns(list_col = pl.struct(cs.integer()))"
   ]
  },
  {
   "cell_type": "code",
   "execution_count": 25,
   "id": "144b0b75-79b2-4e85-af34-493b56f30ad3",
   "metadata": {
    "tags": []
   },
   "outputs": [
    {
     "data": {
      "text/html": [
       "<div><style>\n",
       ".dataframe > thead > tr,\n",
       ".dataframe > tbody > tr {\n",
       "  text-align: right;\n",
       "  white-space: pre-wrap;\n",
       "}\n",
       "</style>\n",
       "<small>shape: (2, 2)</small><table border=\"1\" class=\"dataframe\"><thead><tr><th>a</th><th>list_col</th></tr><tr><td>str</td><td>list[struct[2]]</td></tr></thead><tbody><tr><td>&quot;2&quot;</td><td>[{5,9}, {6,0}]</td></tr><tr><td>&quot;1&quot;</td><td>[{3,7}, {4,8}]</td></tr></tbody></table></div>"
      ],
      "text/plain": [
       "shape: (2, 2)\n",
       "┌─────┬─────────────────┐\n",
       "│ a   ┆ list_col        │\n",
       "│ --- ┆ ---             │\n",
       "│ str ┆ list[struct[2]] │\n",
       "╞═════╪═════════════════╡\n",
       "│ 2   ┆ [{5,9}, {6,0}]  │\n",
       "│ 1   ┆ [{3,7}, {4,8}]  │\n",
       "└─────┴─────────────────┘"
      ]
     },
     "execution_count": 25,
     "metadata": {},
     "output_type": "execute_result"
    }
   ],
   "source": [
    "# aggregate lists into miniature dataset\n",
    "df.group_by('a').agg(list_col = pl.struct(cs.integer()))"
   ]
  },
  {
   "cell_type": "code",
   "execution_count": 27,
   "id": "49bfd1c0-13e2-41df-a544-99329b98ff98",
   "metadata": {
    "tags": []
   },
   "outputs": [
    {
     "data": {
      "text/html": [
       "<div><style>\n",
       ".dataframe > thead > tr,\n",
       ".dataframe > tbody > tr {\n",
       "  text-align: right;\n",
       "  white-space: pre-wrap;\n",
       "}\n",
       "</style>\n",
       "<small>shape: (2, 2)</small><table border=\"1\" class=\"dataframe\"><thead><tr><th>a</th><th>list_col</th></tr><tr><td>str</td><td>list[struct[2]]</td></tr></thead><tbody><tr><td>&quot;2&quot;</td><td>[{5,9}, {6,0}]</td></tr><tr><td>&quot;1&quot;</td><td>[{3,7}, {4,8}]</td></tr></tbody></table></div>"
      ],
      "text/plain": [
       "shape: (2, 2)\n",
       "┌─────┬─────────────────┐\n",
       "│ a   ┆ list_col        │\n",
       "│ --- ┆ ---             │\n",
       "│ str ┆ list[struct[2]] │\n",
       "╞═════╪═════════════════╡\n",
       "│ 2   ┆ [{5,9}, {6,0}]  │\n",
       "│ 1   ┆ [{3,7}, {4,8}]  │\n",
       "└─────┴─────────────────┘"
      ]
     },
     "execution_count": 27,
     "metadata": {},
     "output_type": "execute_result"
    }
   ],
   "source": [
    "# group by cols identified by name and create a list of columns that do NOT have that name\n",
    "\n",
    "cols = ['a']\n",
    "\n",
    "(df\n",
    " .group_by(cs.by_name(cols))\n",
    " .agg(list_col = pl.struct(~cs.by_name(cols)))\n",
    ")"
   ]
  },
  {
   "cell_type": "code",
   "execution_count": 29,
   "id": "bc1607b2-5668-40ad-84ff-ae876b30ca72",
   "metadata": {
    "tags": []
   },
   "outputs": [
    {
     "data": {
      "text/html": [
       "<div><style>\n",
       ".dataframe > thead > tr,\n",
       ".dataframe > tbody > tr {\n",
       "  text-align: right;\n",
       "  white-space: pre-wrap;\n",
       "}\n",
       "</style>\n",
       "<small>shape: (4, 3)</small><table border=\"1\" class=\"dataframe\"><thead><tr><th>a</th><th>b</th><th>c</th></tr><tr><td>str</td><td>i64</td><td>i64</td></tr></thead><tbody><tr><td>&quot;2&quot;</td><td>5</td><td>9</td></tr><tr><td>&quot;2&quot;</td><td>6</td><td>0</td></tr><tr><td>&quot;1&quot;</td><td>3</td><td>7</td></tr><tr><td>&quot;1&quot;</td><td>4</td><td>8</td></tr></tbody></table></div>"
      ],
      "text/plain": [
       "shape: (4, 3)\n",
       "┌─────┬─────┬─────┐\n",
       "│ a   ┆ b   ┆ c   │\n",
       "│ --- ┆ --- ┆ --- │\n",
       "│ str ┆ i64 ┆ i64 │\n",
       "╞═════╪═════╪═════╡\n",
       "│ 2   ┆ 5   ┆ 9   │\n",
       "│ 2   ┆ 6   ┆ 0   │\n",
       "│ 1   ┆ 3   ┆ 7   │\n",
       "│ 1   ┆ 4   ┆ 8   │\n",
       "└─────┴─────┴─────┘"
      ]
     },
     "execution_count": 29,
     "metadata": {},
     "output_type": "execute_result"
    }
   ],
   "source": [
    "# unnesting\n",
    "df_nested = df.group_by('a').agg(list_col = pl.struct(cs.integer()))\n",
    "\n",
    "df_nested.explode('list_col').unnest('list_col')"
   ]
  },
  {
   "cell_type": "code",
   "execution_count": null,
   "id": "1492e677-17d8-4947-ac3c-4c1c46cab6a5",
   "metadata": {},
   "outputs": [],
   "source": []
  }
 ],
 "metadata": {
  "kernelspec": {
   "display_name": "Python 3 (ipykernel)",
   "language": "python",
   "name": "python3"
  },
  "language_info": {
   "codemirror_mode": {
    "name": "ipython",
    "version": 3
   },
   "file_extension": ".py",
   "mimetype": "text/x-python",
   "name": "python",
   "nbconvert_exporter": "python",
   "pygments_lexer": "ipython3",
   "version": "3.11.5"
  }
 },
 "nbformat": 4,
 "nbformat_minor": 5
}
